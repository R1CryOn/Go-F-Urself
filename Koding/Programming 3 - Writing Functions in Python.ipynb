{
 "cells": [
  {
   "cell_type": "markdown",
   "metadata": {},
   "source": [
    "<h3>Function Documentation / Docstring</h3>"
   ]
  },
  {
   "cell_type": "markdown",
   "metadata": {},
   "source": [
    "<h4>Membuat sebuh function yang menghitung kemunculan kata dalam kalimat</h4>"
   ]
  },
  {
   "cell_type": "code",
   "execution_count": 1,
   "metadata": {},
   "outputs": [],
   "source": [
    "# Menghitung kemunculan kata Kelvin\n",
    "string = \"Kelvin adalah seorang mahasiswa, Kelvin biasanya hidup di dalam rumah, Kelvin suka makan batu\""
   ]
  },
  {
   "cell_type": "code",
   "execution_count": 2,
   "metadata": {},
   "outputs": [
    {
     "data": {
      "text/plain": [
       "1"
      ]
     },
     "execution_count": 2,
     "metadata": {},
     "output_type": "execute_result"
    }
   ],
   "source": [
    "string.count('adalah')"
   ]
  },
  {
   "cell_type": "code",
   "execution_count": 3,
   "metadata": {},
   "outputs": [
    {
     "data": {
      "text/plain": [
       "1"
      ]
     },
     "execution_count": 3,
     "metadata": {},
     "output_type": "execute_result"
    }
   ],
   "source": [
    "string.count('mahasiswa')"
   ]
  },
  {
   "cell_type": "code",
   "execution_count": 4,
   "metadata": {},
   "outputs": [],
   "source": [
    "def hitung(kalimat,kata):\n",
    "    return kalimat.count(kata)"
   ]
  },
  {
   "cell_type": "code",
   "execution_count": 5,
   "metadata": {},
   "outputs": [
    {
     "data": {
      "text/plain": [
       "3"
      ]
     },
     "execution_count": 5,
     "metadata": {},
     "output_type": "execute_result"
    }
   ],
   "source": [
    "hitung(string,'Kelvin')"
   ]
  },
  {
   "cell_type": "code",
   "execution_count": 6,
   "metadata": {},
   "outputs": [],
   "source": [
    "# Membuat Function lengkap dengan Docstring\n",
    "\n",
    "def hitung(String, Sentences):\n",
    "    \"\"\"\n",
    "    Function ini digunakan untuk menghitung ada berapa kemunculan sebuah kata dalam kalimat\n",
    "    \n",
    "    Args:\n",
    "    String = Kalimat yang akan digunakan\n",
    "    Sentences = Kata yang akan dihitung\n",
    "    \n",
    "    Return:\n",
    "    Berapa kali kemunculan kata-kata tersebut di dalam kalimat\n",
    "    \"\"\"\n",
    "    return string.count(Sentences)"
   ]
  },
  {
   "cell_type": "code",
   "execution_count": 7,
   "metadata": {},
   "outputs": [
    {
     "name": "stdout",
     "output_type": "stream",
     "text": [
      "Function ini digunakan untuk menghitung ada berapa kemunculan sebuah kata dalam kalimat\n",
      "\n",
      "Args:\n",
      "String = Kalimat yang akan digunakan\n",
      "Sentences = Kata yang akan dihitung\n",
      "\n",
      "Return:\n",
      "Berapa kali kemunculan kata-kata tersebut di dalam kalimat\n"
     ]
    }
   ],
   "source": [
    "# Melihat Function Documentation\n",
    "\n",
    "import inspect\n",
    "print(inspect.getdoc(hitung))"
   ]
  },
  {
   "cell_type": "code",
   "execution_count": 8,
   "metadata": {},
   "outputs": [
    {
     "name": "stdout",
     "output_type": "stream",
     "text": [
      "def hitung(String, Sentences):\n",
      "    \"\"\"\n",
      "    Function ini digunakan untuk menghitung ada berapa kemunculan sebuah kata dalam kalimat\n",
      "    \n",
      "    Args:\n",
      "    String = Kalimat yang akan digunakan\n",
      "    Sentences = Kata yang akan dihitung\n",
      "    \n",
      "    Return:\n",
      "    Berapa kali kemunculan kata-kata tersebut di dalam kalimat\n",
      "    \"\"\"\n",
      "    return string.count(Sentences)\n",
      "\n"
     ]
    }
   ],
   "source": [
    "# Melihat kode dari Function\n",
    "\n",
    "print(inspect.getsource(hitung))"
   ]
  },
  {
   "cell_type": "code",
   "execution_count": 9,
   "metadata": {},
   "outputs": [],
   "source": [
    "# Uji Coba Error\n",
    "\n",
    "try:\n",
    "    hitung(2,'Kelvin')\n",
    "except:\n",
    "    print('Error ! Hanya Menerima Kalimat')"
   ]
  },
  {
   "cell_type": "code",
   "execution_count": 10,
   "metadata": {},
   "outputs": [],
   "source": [
    "# Membuat Eksepsi Error Pada Function\n",
    "\n",
    "def hitung(String, Sentences):\n",
    "    \"\"\"\n",
    "    Function ini digunakan untuk menghitung ada berapa kemunculan sebuah kata dalam kalimat\n",
    "    \n",
    "    Args:\n",
    "        String = Kalimat yang akan digunakan\n",
    "        Sentences = Kata yang akan dihitung\n",
    "    \n",
    "    Return:\n",
    "        int\n",
    "    \n",
    "    Raises:\n",
    "        TypeError = Error yang terjadi apabila tipe data dari input String ataupun Sentences bukanlah string\n",
    "    \"\"\"\n",
    "    \n",
    "    if type(String) or type(Sentences) != str:\n",
    "        raise TypeError('Maaf, Kalimat ataupun kata yang anda masukkan haruslah berupa kalimat')\n",
    "    else:\n",
    "        return string.count(Sentences)"
   ]
  },
  {
   "cell_type": "markdown",
   "metadata": {},
   "source": [
    "### Don't Repeat Yourself + Keep It Simple"
   ]
  },
  {
   "cell_type": "markdown",
   "metadata": {},
   "source": [
    "#### Don't Repeat Yourself"
   ]
  },
  {
   "cell_type": "code",
   "execution_count": 11,
   "metadata": {},
   "outputs": [
    {
     "data": {
      "text/html": [
       "<div>\n",
       "<style scoped>\n",
       "    .dataframe tbody tr th:only-of-type {\n",
       "        vertical-align: middle;\n",
       "    }\n",
       "\n",
       "    .dataframe tbody tr th {\n",
       "        vertical-align: top;\n",
       "    }\n",
       "\n",
       "    .dataframe thead th {\n",
       "        text-align: right;\n",
       "    }\n",
       "</style>\n",
       "<table border=\"1\" class=\"dataframe\">\n",
       "  <thead>\n",
       "    <tr style=\"text-align: right;\">\n",
       "      <th></th>\n",
       "      <th>Id</th>\n",
       "      <th>SepalLengthCm</th>\n",
       "      <th>SepalWidthCm</th>\n",
       "      <th>PetalLengthCm</th>\n",
       "      <th>PetalWidthCm</th>\n",
       "      <th>species</th>\n",
       "    </tr>\n",
       "  </thead>\n",
       "  <tbody>\n",
       "    <tr>\n",
       "      <th>0</th>\n",
       "      <td>1</td>\n",
       "      <td>5.1</td>\n",
       "      <td>3.5</td>\n",
       "      <td>1.4</td>\n",
       "      <td>0.2</td>\n",
       "      <td>Iris-setosa</td>\n",
       "    </tr>\n",
       "    <tr>\n",
       "      <th>1</th>\n",
       "      <td>2</td>\n",
       "      <td>4.9</td>\n",
       "      <td>3.0</td>\n",
       "      <td>1.4</td>\n",
       "      <td>0.2</td>\n",
       "      <td>Iris-setosa</td>\n",
       "    </tr>\n",
       "    <tr>\n",
       "      <th>2</th>\n",
       "      <td>3</td>\n",
       "      <td>4.7</td>\n",
       "      <td>3.2</td>\n",
       "      <td>1.3</td>\n",
       "      <td>0.2</td>\n",
       "      <td>Iris-setosa</td>\n",
       "    </tr>\n",
       "    <tr>\n",
       "      <th>3</th>\n",
       "      <td>4</td>\n",
       "      <td>4.6</td>\n",
       "      <td>3.1</td>\n",
       "      <td>1.5</td>\n",
       "      <td>0.2</td>\n",
       "      <td>Iris-setosa</td>\n",
       "    </tr>\n",
       "    <tr>\n",
       "      <th>4</th>\n",
       "      <td>5</td>\n",
       "      <td>5.0</td>\n",
       "      <td>3.6</td>\n",
       "      <td>1.4</td>\n",
       "      <td>0.2</td>\n",
       "      <td>Iris-setosa</td>\n",
       "    </tr>\n",
       "  </tbody>\n",
       "</table>\n",
       "</div>"
      ],
      "text/plain": [
       "   Id  SepalLengthCm  SepalWidthCm  PetalLengthCm  PetalWidthCm      species\n",
       "0   1            5.1           3.5            1.4           0.2  Iris-setosa\n",
       "1   2            4.9           3.0            1.4           0.2  Iris-setosa\n",
       "2   3            4.7           3.2            1.3           0.2  Iris-setosa\n",
       "3   4            4.6           3.1            1.5           0.2  Iris-setosa\n",
       "4   5            5.0           3.6            1.4           0.2  Iris-setosa"
      ]
     },
     "execution_count": 11,
     "metadata": {},
     "output_type": "execute_result"
    }
   ],
   "source": [
    "# Buatlah sebuah fungsi dimana kita membaca dataset dan memvisualisasikan 2 kolom awal\n",
    "\n",
    "import pandas as pd\n",
    "data = pd.read_csv('iris.csv')\n",
    "data.head()"
   ]
  },
  {
   "cell_type": "code",
   "execution_count": 12,
   "metadata": {},
   "outputs": [
    {
     "data": {
      "text/plain": [
       "[]"
      ]
     },
     "execution_count": 12,
     "metadata": {},
     "output_type": "execute_result"
    },
    {
     "data": {
      "image/png": "[encoded data removed]",
      "text/plain": [
       "<Figure size 432x288 with 1 Axes>"
      ]
     },
     "metadata": {
      "needs_background": "light"
     },
     "output_type": "display_data"
    }
   ],
   "source": [
    "import matplotlib.pyplot as plt\n",
    "x = data.iloc[:,1].head()\n",
    "y = data.iloc[:,2].head()\n",
    "\n",
    "plt.scatter(x,y)\n",
    "plt.plot()"
   ]
  },
  {
   "cell_type": "code",
   "execution_count": 13,
   "metadata": {},
   "outputs": [],
   "source": [
    "def ujicoba(path):\n",
    "    import pandas as pd\n",
    "    data = pd.read_csv(path)\n",
    "    \n",
    "    x = data.iloc[:,1]\n",
    "    y = data.iloc[:,2]\n",
    "    plt.scatter(x,y)\n",
    "    plt.show()"
   ]
  },
  {
   "cell_type": "code",
   "execution_count": 14,
   "metadata": {},
   "outputs": [
    {
     "data": {
      "image/png": "[encoded data removed]",
      "text/plain": [
       "<Figure size 432x288 with 1 Axes>"
      ]
     },
     "metadata": {
      "needs_background": "light"
     },
     "output_type": "display_data"
    }
   ],
   "source": [
    "path = 'F:/Dataset For Python/iris.csv'\n",
    "ujicoba(path)"
   ]
  },
  {
   "cell_type": "markdown",
   "metadata": {},
   "source": [
    "#### Keep It Simple"
   ]
  },
  {
   "cell_type": "code",
   "execution_count": 15,
   "metadata": {},
   "outputs": [],
   "source": [
    "# Membuat Fungsi Untuk Mendapatkan Dataset\n",
    "\n",
    "def dataset(path,n=5):\n",
    "    import pandas as pd\n",
    "    data = pd.read_csv(path)\n",
    "    return data.iloc[:n]\n",
    "\n",
    "def ploting(data,x=1,y=2):\n",
    "    import matplotlib.pyplot as plt\n",
    "    x_axis = data.iloc[:,x]\n",
    "    y_axis = data.iloc[:,y]\n",
    "    plt.scatter(x_axis,y_axis)\n",
    "    plt.xlabel(data.columns[x])\n",
    "    plt.ylabel(data.columns[y])\n",
    "    return plt.show()"
   ]
  },
  {
   "cell_type": "code",
   "execution_count": 16,
   "metadata": {},
   "outputs": [
    {
     "data": {
      "text/html": [
       "<div>\n",
       "<style scoped>\n",
       "    .dataframe tbody tr th:only-of-type {\n",
       "        vertical-align: middle;\n",
       "    }\n",
       "\n",
       "    .dataframe tbody tr th {\n",
       "        vertical-align: top;\n",
       "    }\n",
       "\n",
       "    .dataframe thead th {\n",
       "        text-align: right;\n",
       "    }\n",
       "</style>\n",
       "<table border=\"1\" class=\"dataframe\">\n",
       "  <thead>\n",
       "    <tr style=\"text-align: right;\">\n",
       "      <th></th>\n",
       "      <th>Id</th>\n",
       "      <th>SepalLengthCm</th>\n",
       "      <th>SepalWidthCm</th>\n",
       "      <th>PetalLengthCm</th>\n",
       "      <th>PetalWidthCm</th>\n",
       "      <th>species</th>\n",
       "    </tr>\n",
       "  </thead>\n",
       "  <tbody>\n",
       "    <tr>\n",
       "      <th>0</th>\n",
       "      <td>1</td>\n",
       "      <td>5.1</td>\n",
       "      <td>3.5</td>\n",
       "      <td>1.4</td>\n",
       "      <td>0.2</td>\n",
       "      <td>Iris-setosa</td>\n",
       "    </tr>\n",
       "    <tr>\n",
       "      <th>1</th>\n",
       "      <td>2</td>\n",
       "      <td>4.9</td>\n",
       "      <td>3.0</td>\n",
       "      <td>1.4</td>\n",
       "      <td>0.2</td>\n",
       "      <td>Iris-setosa</td>\n",
       "    </tr>\n",
       "    <tr>\n",
       "      <th>2</th>\n",
       "      <td>3</td>\n",
       "      <td>4.7</td>\n",
       "      <td>3.2</td>\n",
       "      <td>1.3</td>\n",
       "      <td>0.2</td>\n",
       "      <td>Iris-setosa</td>\n",
       "    </tr>\n",
       "    <tr>\n",
       "      <th>3</th>\n",
       "      <td>4</td>\n",
       "      <td>4.6</td>\n",
       "      <td>3.1</td>\n",
       "      <td>1.5</td>\n",
       "      <td>0.2</td>\n",
       "      <td>Iris-setosa</td>\n",
       "    </tr>\n",
       "    <tr>\n",
       "      <th>4</th>\n",
       "      <td>5</td>\n",
       "      <td>5.0</td>\n",
       "      <td>3.6</td>\n",
       "      <td>1.4</td>\n",
       "      <td>0.2</td>\n",
       "      <td>Iris-setosa</td>\n",
       "    </tr>\n",
       "  </tbody>\n",
       "</table>\n",
       "</div>"
      ],
      "text/plain": [
       "   Id  SepalLengthCm  SepalWidthCm  PetalLengthCm  PetalWidthCm      species\n",
       "0   1            5.1           3.5            1.4           0.2  Iris-setosa\n",
       "1   2            4.9           3.0            1.4           0.2  Iris-setosa\n",
       "2   3            4.7           3.2            1.3           0.2  Iris-setosa\n",
       "3   4            4.6           3.1            1.5           0.2  Iris-setosa\n",
       "4   5            5.0           3.6            1.4           0.2  Iris-setosa"
      ]
     },
     "execution_count": 16,
     "metadata": {},
     "output_type": "execute_result"
    }
   ],
   "source": [
    "dt = dataset(path)\n",
    "dt"
   ]
  },
  {
   "cell_type": "code",
   "execution_count": 17,
   "metadata": {
    "scrolled": true
   },
   "outputs": [
    {
     "data": {
      "image/png": "[encoded data removed]",
      "text/plain": [
       "<Figure size 432x288 with 1 Axes>"
      ]
     },
     "metadata": {
      "needs_background": "light"
     },
     "output_type": "display_data"
    }
   ],
   "source": [
    "ploting(dt)"
   ]
  },
  {
   "cell_type": "code",
   "execution_count": 18,
   "metadata": {},
   "outputs": [
    {
     "data": {
      "image/png": "[encoded data removed]",
      "text/plain": [
       "<Figure size 432x288 with 1 Axes>"
      ]
     },
     "metadata": {
      "needs_background": "light"
     },
     "output_type": "display_data"
    }
   ],
   "source": [
    "ploting(dataset(path),2,3)"
   ]
  },
  {
   "cell_type": "markdown",
   "metadata": {},
   "source": [
    "### Context Manager"
   ]
  },
  {
   "cell_type": "code",
   "execution_count": 19,
   "metadata": {},
   "outputs": [
    {
     "name": "stdout",
     "output_type": "stream",
     "text": [
      "2\n"
     ]
    }
   ],
   "source": [
    "# Context Manager selalu diawali dengan kata \n",
    "\n",
    "# Memakai fungsi open yang akan membuka file, lebih detail Python File Handling\n",
    "\n",
    "with open('tiesto.txt') as file:\n",
    "    for i in file:\n",
    "        total = i.count('Tiesto')\n",
    "print(total)"
   ]
  },
  {
   "cell_type": "code",
   "execution_count": 20,
   "metadata": {},
   "outputs": [],
   "source": [
    "# Mendefinisikan fungsi dengan \n",
    "# yield sendiri adalah generator untuk context manager, dimana berperan spt return pada function biasa\n",
    "\n",
    "def Usus():\n",
    "    yield 33"
   ]
  },
  {
   "cell_type": "code",
   "execution_count": 21,
   "metadata": {},
   "outputs": [
    {
     "name": "stdout",
     "output_type": "stream",
     "text": [
      "Error !, Function Usus bukanlah context manager\n"
     ]
    }
   ],
   "source": [
    "try:\n",
    "    with Usus() as u:\n",
    "        print(u)\n",
    "except:\n",
    "    print('Error !, Function Usus bukanlah context manager')"
   ]
  },
  {
   "cell_type": "code",
   "execution_count": 22,
   "metadata": {},
   "outputs": [],
   "source": [
    "# Menjadikan fungsi Usus sbg Contextmanager\n",
    "\n",
    "from contextlib import contextmanager\n",
    "\n",
    "@contextmanager\n",
    "def Usus():\n",
    "    yield 10"
   ]
  },
  {
   "cell_type": "code",
   "execution_count": 23,
   "metadata": {},
   "outputs": [
    {
     "name": "stdout",
     "output_type": "stream",
     "text": [
      "10\n"
     ]
    }
   ],
   "source": [
    "try:\n",
    "    with Usus() as u:\n",
    "        print(u)\n",
    "except:\n",
    "    print('Error !, Function Usus bukanlah context manager')"
   ]
  },
  {
   "cell_type": "code",
   "execution_count": 24,
   "metadata": {},
   "outputs": [
    {
     "name": "stdout",
     "output_type": "stream",
     "text": [
      "Error ! Return integer tidak diperkenankan\n"
     ]
    }
   ],
   "source": [
    "# Ujicoba memakai return dan mengembalikan integer\n",
    "\n",
    "@contextmanager\n",
    "def RetInt():\n",
    "    return 23\n",
    "\n",
    "try:\n",
    "    with RetInt() as ri:\n",
    "        print(ri)\n",
    "except:\n",
    "    print('Error ! Return integer tidak diperkenankan')"
   ]
  },
  {
   "cell_type": "code",
   "execution_count": 25,
   "metadata": {},
   "outputs": [
    {
     "name": "stdout",
     "output_type": "stream",
     "text": [
      "Error ! Return variable tidak diperkenankan\n"
     ]
    }
   ],
   "source": [
    "# Ujicoba contextmanager memakai return dan return variable\n",
    "\n",
    "@contextmanager\n",
    "def RetVar():\n",
    "    var = 'Hello'\n",
    "    return var\n",
    "\n",
    "try:\n",
    "    with RetVar() as rv:\n",
    "        print(rv)\n",
    "except:\n",
    "    print('Error ! Return variable tidak diperkenankan')"
   ]
  },
  {
   "cell_type": "code",
   "execution_count": 26,
   "metadata": {},
   "outputs": [
    {
     "name": "stdout",
     "output_type": "stream",
     "text": [
      "Error ! Return variable tidak diperkenankan\n"
     ]
    }
   ],
   "source": [
    "# Ujicoba contextmanager memakai return string\n",
    "\n",
    "@contextmanager\n",
    "def RetVar():\n",
    "    return 'Hello'\n",
    "\n",
    "try:\n",
    "    with RetVar() as rv:\n",
    "        print(rv)\n",
    "except:\n",
    "    print('Error ! Return variable tidak diperkenankan')"
   ]
  },
  {
   "cell_type": "code",
   "execution_count": 27,
   "metadata": {},
   "outputs": [
    {
     "name": "stdout",
     "output_type": "stream",
     "text": [
      "3.0\n"
     ]
    }
   ],
   "source": [
    "# Ujicoba contextmanager\n",
    "\n",
    "@contextmanager\n",
    "def Segitiga(a,t):\n",
    "    luas = (a * t)/2\n",
    "    yield luas\n",
    "    \n",
    "with Segitiga(2,3) as sg:\n",
    "    print(sg)"
   ]
  },
  {
   "cell_type": "markdown",
   "metadata": {},
   "source": [
    "### Python Function is an Object"
   ]
  },
  {
   "cell_type": "code",
   "execution_count": 28,
   "metadata": {},
   "outputs": [
    {
     "name": "stdout",
     "output_type": "stream",
     "text": [
      "Hello\n"
     ]
    }
   ],
   "source": [
    "def first(x):\n",
    "    print(x)\n",
    "    \n",
    "first('Hello')"
   ]
  },
  {
   "cell_type": "code",
   "execution_count": 29,
   "metadata": {},
   "outputs": [
    {
     "data": {
      "text/plain": [
       "<function __main__.first(x)>"
      ]
     },
     "execution_count": 29,
     "metadata": {},
     "output_type": "execute_result"
    }
   ],
   "source": [
    "first"
   ]
  },
  {
   "cell_type": "code",
   "execution_count": 30,
   "metadata": {},
   "outputs": [
    {
     "data": {
      "text/plain": [
       "<function __main__.first(x)>"
      ]
     },
     "execution_count": 30,
     "metadata": {},
     "output_type": "execute_result"
    }
   ],
   "source": [
    "fnc = first\n",
    "fnc"
   ]
  },
  {
   "cell_type": "code",
   "execution_count": 31,
   "metadata": {},
   "outputs": [
    {
     "name": "stdout",
     "output_type": "stream",
     "text": [
      "Hello Version Two\n"
     ]
    }
   ],
   "source": [
    "fnc('Hello Version Two')"
   ]
  },
  {
   "cell_type": "markdown",
   "metadata": {},
   "source": [
    "#### Function can be passed as arguments to another Function"
   ]
  },
  {
   "cell_type": "code",
   "execution_count": 32,
   "metadata": {},
   "outputs": [],
   "source": [
    "def inc(x):\n",
    "    return x + 1\n",
    "\n",
    "def dec(x):\n",
    "    return x - 1\n",
    "\n",
    "def operate(func,x):\n",
    "    result = func(x)\n",
    "    return result"
   ]
  },
  {
   "cell_type": "code",
   "execution_count": 33,
   "metadata": {},
   "outputs": [
    {
     "data": {
      "text/plain": [
       "3"
      ]
     },
     "execution_count": 33,
     "metadata": {},
     "output_type": "execute_result"
    }
   ],
   "source": [
    "operate(inc,2)"
   ]
  },
  {
   "cell_type": "code",
   "execution_count": 34,
   "metadata": {},
   "outputs": [
    {
     "data": {
      "text/plain": [
       "3"
      ]
     },
     "execution_count": 34,
     "metadata": {},
     "output_type": "execute_result"
    }
   ],
   "source": [
    "inc(2)"
   ]
  },
  {
   "cell_type": "markdown",
   "metadata": {},
   "source": [
    "#### Sebuah function bahkan bisa dipanggil dalam return"
   ]
  },
  {
   "cell_type": "code",
   "execution_count": 35,
   "metadata": {},
   "outputs": [
    {
     "name": "stdout",
     "output_type": "stream",
     "text": [
      "Hello\n"
     ]
    }
   ],
   "source": [
    "def Parent(x):\n",
    "    def Child():\n",
    "        print(x)\n",
    "    return Child()\n",
    "Parent('Hello')"
   ]
  },
  {
   "cell_type": "code",
   "execution_count": 36,
   "metadata": {},
   "outputs": [
    {
     "data": {
      "text/plain": [
       "<function __main__.Parent.<locals>.Child()>"
      ]
     },
     "execution_count": 36,
     "metadata": {},
     "output_type": "execute_result"
    }
   ],
   "source": [
    "def Parent(x):\n",
    "    def Child():\n",
    "        print(x)\n",
    "    return Child\n",
    "Parent('Hello')"
   ]
  },
  {
   "cell_type": "code",
   "execution_count": 37,
   "metadata": {},
   "outputs": [
    {
     "name": "stdout",
     "output_type": "stream",
     "text": [
      "<function Parent at 0x000001BB73166430>\n"
     ]
    }
   ],
   "source": [
    "par = Parent\n",
    "print(par)"
   ]
  },
  {
   "cell_type": "code",
   "execution_count": 38,
   "metadata": {},
   "outputs": [
    {
     "data": {
      "text/plain": [
       "<function __main__.Parent.<locals>.Child()>"
      ]
     },
     "execution_count": 38,
     "metadata": {},
     "output_type": "execute_result"
    }
   ],
   "source": [
    "par = Parent('Hello')\n",
    "par"
   ]
  },
  {
   "cell_type": "code",
   "execution_count": 39,
   "metadata": {},
   "outputs": [
    {
     "name": "stdout",
     "output_type": "stream",
     "text": [
      "Hello\n"
     ]
    }
   ],
   "source": [
    "par()"
   ]
  },
  {
   "cell_type": "markdown",
   "metadata": {},
   "source": [
    "<h4>Materi Diatas Tentang <a href='#Closures'>Closure</a></h4>"
   ]
  },
  {
   "cell_type": "code",
   "execution_count": 40,
   "metadata": {},
   "outputs": [
    {
     "name": "stdout",
     "output_type": "stream",
     "text": [
      "This Function Don't Have Documentation\n"
     ]
    }
   ],
   "source": [
    "def func():\n",
    "    '''\n",
    "    Function ini memiliki Documentation\n",
    "    '''\n",
    "    print('Yes')\n",
    "    \n",
    "def fnc():\n",
    "    print('No')\n",
    "    \n",
    "    \n",
    "def Checker(func):\n",
    "    def DocumentationChecker(func):\n",
    "        return func.__doc__\n",
    "    _ = DocumentationChecker(func)\n",
    "    if not _:\n",
    "        print(\"This Function Don't Have Documentation\")\n",
    "    else:\n",
    "        print(\"Yes, They Have\")\n",
    "    return DocumentationChecker\n",
    "\n",
    "cn = Checker(fnc)"
   ]
  },
  {
   "cell_type": "markdown",
   "metadata": {},
   "source": [
    "<h3>Global, Local, Nonlocal Variable Scope</h3>"
   ]
  },
  {
   "cell_type": "markdown",
   "metadata": {},
   "source": [
    "<h4>Global Scope</h4>Global Scope adalah sebuah variable yang bisa diakses dimana saja, dalam class, dalam function, bahkan diluar keduanya"
   ]
  },
  {
   "cell_type": "code",
   "execution_count": 41,
   "metadata": {},
   "outputs": [
    {
     "name": "stdout",
     "output_type": "stream",
     "text": [
      "10\n"
     ]
    }
   ],
   "source": [
    "x = 10\n",
    "\n",
    "def Out():\n",
    "    print(x)\n",
    "Out()"
   ]
  },
  {
   "cell_type": "code",
   "execution_count": 42,
   "metadata": {},
   "outputs": [
    {
     "name": "stdout",
     "output_type": "stream",
     "text": [
      "Error !\n"
     ]
    }
   ],
   "source": [
    "x = 10\n",
    "\n",
    "def Out():\n",
    "    x = x + 5\n",
    "    print(x)\n",
    "\n",
    "try:\n",
    "    Out()\n",
    "except:\n",
    "    print('Error !')"
   ]
  },
  {
   "cell_type": "code",
   "execution_count": 43,
   "metadata": {},
   "outputs": [
    {
     "name": "stdout",
     "output_type": "stream",
     "text": [
      "15\n"
     ]
    }
   ],
   "source": [
    "x = 10\n",
    "\n",
    "def Out():\n",
    "    global x\n",
    "    x = x + 5\n",
    "    print(x)\n",
    "\n",
    "try:\n",
    "    Out()\n",
    "except:\n",
    "    print('Error !')"
   ]
  },
  {
   "cell_type": "markdown",
   "metadata": {},
   "source": [
    "<h4>Local Scope</h4>Local Scope adalah sebuah variable yang <b>hanya</b> bisa diakses di dalam sebuah Function atau Class"
   ]
  },
  {
   "cell_type": "code",
   "execution_count": 44,
   "metadata": {},
   "outputs": [
    {
     "data": {
      "text/plain": [
       "15"
      ]
     },
     "execution_count": 44,
     "metadata": {},
     "output_type": "execute_result"
    }
   ],
   "source": [
    "def Outi():\n",
    "    y = 15\n",
    "    return y\n",
    "Outi()"
   ]
  },
  {
   "cell_type": "code",
   "execution_count": 45,
   "metadata": {},
   "outputs": [],
   "source": [
    "try:\n",
    "    y\n",
    "except:\n",
    "    print('y is undefined')"
   ]
  },
  {
   "cell_type": "markdown",
   "metadata": {},
   "source": [
    "<h4>NonLocal Scope</h4>NonLocal Scope Variable adalah sebuah variable yang terdapat di Nested Function, meskipun di define di Parent Function Class, Child Function Class masih bisa mengakses tanpa ada keyword"
   ]
  },
  {
   "cell_type": "code",
   "execution_count": 46,
   "metadata": {},
   "outputs": [
    {
     "name": "stdout",
     "output_type": "stream",
     "text": [
      "InsNon x : NonLoc\n",
      "NonLoc x : NonLoc\n"
     ]
    }
   ],
   "source": [
    "def NonLoc():\n",
    "    x = 'NonLoc'\n",
    "    def InsNon():\n",
    "        print('InsNon x : ' + x)\n",
    "    InsNon()\n",
    "    print('NonLoc x : ' + x)\n",
    "    \n",
    "NonLoc()"
   ]
  },
  {
   "cell_type": "code",
   "execution_count": 47,
   "metadata": {},
   "outputs": [
    {
     "name": "stdout",
     "output_type": "stream",
     "text": [
      "InsNon x : InsNonLoc\n",
      "NonLoc x : NonLoc\n"
     ]
    }
   ],
   "source": [
    "def NonLoc():\n",
    "    x = 'NonLoc'\n",
    "    def InsNon():\n",
    "        x = 'InsNonLoc'\n",
    "        print('InsNon x : ' + x)\n",
    "    InsNon()\n",
    "    print('NonLoc x : ' + x)\n",
    "    \n",
    "NonLoc()"
   ]
  },
  {
   "cell_type": "code",
   "execution_count": 48,
   "metadata": {},
   "outputs": [
    {
     "name": "stdout",
     "output_type": "stream",
     "text": [
      "InsNon x : InsNonLoc\n",
      "NonLoc x : InsNonLoc\n"
     ]
    }
   ],
   "source": [
    "# Apabila ingin merubah x pada Parent Function\n",
    "\n",
    "def NonLoc():\n",
    "    x = 'NonLoc'\n",
    "    def InsNon():\n",
    "        nonlocal x\n",
    "        x = 'InsNonLoc'\n",
    "        print('InsNon x : ' + x)\n",
    "    InsNon()\n",
    "    print('NonLoc x : ' + x)\n",
    "    \n",
    "NonLoc()"
   ]
  },
  {
   "cell_type": "markdown",
   "metadata": {},
   "source": [
    "### Nested Function"
   ]
  },
  {
   "cell_type": "code",
   "execution_count": 49,
   "metadata": {},
   "outputs": [
    {
     "name": "stdout",
     "output_type": "stream",
     "text": [
      "Tiesto\n"
     ]
    }
   ],
   "source": [
    "def FuncOne(x):\n",
    "    def output():\n",
    "        print(x)\n",
    "    return output()\n",
    "\n",
    "FuncOne('Tiesto')"
   ]
  },
  {
   "cell_type": "code",
   "execution_count": 50,
   "metadata": {},
   "outputs": [
    {
     "data": {
      "text/plain": [
       "<function __main__.FuncTwo.<locals>.outputTwo()>"
      ]
     },
     "execution_count": 50,
     "metadata": {},
     "output_type": "execute_result"
    }
   ],
   "source": [
    "def FuncTwo(x):\n",
    "    def outputTwo():\n",
    "        print(x)\n",
    "    return outputTwo\n",
    "\n",
    "res = FuncTwo('Martin Garrix')\n",
    "res"
   ]
  },
  {
   "cell_type": "code",
   "execution_count": 51,
   "metadata": {},
   "outputs": [
    {
     "name": "stdout",
     "output_type": "stream",
     "text": [
      "Martin Garrix\n"
     ]
    }
   ],
   "source": [
    "res()"
   ]
  },
  {
   "cell_type": "code",
   "execution_count": 52,
   "metadata": {},
   "outputs": [],
   "source": [
    "def Math(operator):\n",
    "    if operator == 'add':\n",
    "        def Add(x,y):\n",
    "            add = x + y\n",
    "            return add\n",
    "        return Add\n",
    "    elif operator == 'sub':\n",
    "        def Sub(x,y):\n",
    "            sub = x - y\n",
    "            return sub\n",
    "        return Sub\n",
    "    else:\n",
    "        print('Undefined')"
   ]
  },
  {
   "cell_type": "code",
   "execution_count": 53,
   "metadata": {},
   "outputs": [
    {
     "data": {
      "text/plain": [
       "5"
      ]
     },
     "execution_count": 53,
     "metadata": {},
     "output_type": "execute_result"
    }
   ],
   "source": [
    "m = Math('add')\n",
    "m(2,3)"
   ]
  },
  {
   "cell_type": "code",
   "execution_count": 54,
   "metadata": {},
   "outputs": [
    {
     "data": {
      "text/plain": [
       "2"
      ]
     },
     "execution_count": 54,
     "metadata": {},
     "output_type": "execute_result"
    }
   ],
   "source": [
    "s =  Math('sub')\n",
    "s(3,1)"
   ]
  },
  {
   "cell_type": "code",
   "execution_count": 55,
   "metadata": {},
   "outputs": [
    {
     "name": "stdout",
     "output_type": "stream",
     "text": [
      "Undefined\n",
      "Error !\n"
     ]
    }
   ],
   "source": [
    "x = Math('mul')\n",
    "try:\n",
    "    x(2,2)\n",
    "except:\n",
    "    print('Error !')"
   ]
  },
  {
   "cell_type": "markdown",
   "metadata": {},
   "source": [
    "<h3>Closures</h3>Closure adalah sebuah cara Python untuk mendapatkan variable nonlocal dari parent function ke child function, sehingga child function bisa bekerja bahkan diluar parent function"
   ]
  },
  {
   "cell_type": "code",
   "execution_count": 56,
   "metadata": {},
   "outputs": [
    {
     "name": "stdout",
     "output_type": "stream",
     "text": [
      "5\n"
     ]
    }
   ],
   "source": [
    "def foo():\n",
    "    a = 5\n",
    "    \n",
    "    def bar():\n",
    "        print(a)\n",
    "    return bar\n",
    "\n",
    "func = foo()\n",
    "func()"
   ]
  },
  {
   "cell_type": "code",
   "execution_count": 57,
   "metadata": {},
   "outputs": [
    {
     "data": {
      "text/plain": [
       "tuple"
      ]
     },
     "execution_count": 57,
     "metadata": {},
     "output_type": "execute_result"
    }
   ],
   "source": [
    "type(func.__closure__)"
   ]
  },
  {
   "cell_type": "code",
   "execution_count": 58,
   "metadata": {},
   "outputs": [
    {
     "data": {
      "text/plain": [
       "1"
      ]
     },
     "execution_count": 58,
     "metadata": {},
     "output_type": "execute_result"
    }
   ],
   "source": [
    "len(func.__closure__)"
   ]
  },
  {
   "cell_type": "code",
   "execution_count": 59,
   "metadata": {},
   "outputs": [
    {
     "name": "stdout",
     "output_type": "stream",
     "text": [
      "5\n"
     ]
    }
   ],
   "source": [
    "print(func.__closure__[0].cell_contents)"
   ]
  },
  {
   "cell_type": "code",
   "execution_count": 60,
   "metadata": {},
   "outputs": [
    {
     "name": "stdout",
     "output_type": "stream",
     "text": [
      "25\n"
     ]
    }
   ],
   "source": [
    "x = 25\n",
    "def foo(a):\n",
    "    \n",
    "    def bar():\n",
    "        print(a)\n",
    "    return bar\n",
    "\n",
    "func = foo(x)\n",
    "func()"
   ]
  },
  {
   "cell_type": "code",
   "execution_count": 61,
   "metadata": {},
   "outputs": [
    {
     "name": "stdout",
     "output_type": "stream",
     "text": [
      "There is no x defined\n"
     ]
    }
   ],
   "source": [
    "del(x)\n",
    "\n",
    "try:\n",
    "    print(x)\n",
    "except:\n",
    "    print('There is no x defined')"
   ]
  },
  {
   "cell_type": "code",
   "execution_count": 62,
   "metadata": {},
   "outputs": [
    {
     "name": "stdout",
     "output_type": "stream",
     "text": [
      "25\n"
     ]
    }
   ],
   "source": [
    "func()"
   ]
  },
  {
   "cell_type": "code",
   "execution_count": 63,
   "metadata": {},
   "outputs": [
    {
     "name": "stdout",
     "output_type": "stream",
     "text": [
      "25\n",
      "20\n"
     ]
    }
   ],
   "source": [
    "x = 25\n",
    "y = 20\n",
    "def foo(a,b):\n",
    "    \n",
    "    def bar():\n",
    "        print(a)\n",
    "        print(b)\n",
    "    return bar\n",
    "\n",
    "func = foo(x,y)\n",
    "func()"
   ]
  },
  {
   "cell_type": "code",
   "execution_count": 64,
   "metadata": {},
   "outputs": [
    {
     "data": {
      "text/plain": [
       "2"
      ]
     },
     "execution_count": 64,
     "metadata": {},
     "output_type": "execute_result"
    }
   ],
   "source": [
    "len(func.__closure__)"
   ]
  },
  {
   "cell_type": "code",
   "execution_count": 65,
   "metadata": {},
   "outputs": [
    {
     "name": "stdout",
     "output_type": "stream",
     "text": [
      "True\n",
      "True\n"
     ]
    }
   ],
   "source": [
    "print(func.__closure__ is not None)\n",
    "print(len(func.__closure__) == 2)"
   ]
  },
  {
   "cell_type": "code",
   "execution_count": 66,
   "metadata": {},
   "outputs": [
    {
     "name": "stdout",
     "output_type": "stream",
     "text": [
      "Error !\n"
     ]
    }
   ],
   "source": [
    "del(func)\n",
    "\n",
    "try:\n",
    "    func()\n",
    "except:\n",
    "    print('Error !')"
   ]
  },
  {
   "cell_type": "markdown",
   "metadata": {},
   "source": [
    "<h3>Decorator</h3>Sebuah Fungsi yang digunakan untuk mengedit input ataupun output dari function, bahkan function itu sendiri"
   ]
  },
  {
   "cell_type": "code",
   "execution_count": 67,
   "metadata": {},
   "outputs": [],
   "source": [
    "def pembagi(func):\n",
    "    def wrapper(a,b):\n",
    "        if b != 0:\n",
    "            return a / b\n",
    "        else:\n",
    "            pesan = 'Error ! Anda Tidak Bisa Membagi Dengan 0'\n",
    "            return pesan\n",
    "    return wrapper\n",
    "\n",
    "@pembagi\n",
    "def divide(a,b):\n",
    "    print(a/b)"
   ]
  },
  {
   "cell_type": "code",
   "execution_count": 68,
   "metadata": {},
   "outputs": [
    {
     "data": {
      "text/plain": [
       "2.0"
      ]
     },
     "execution_count": 68,
     "metadata": {},
     "output_type": "execute_result"
    }
   ],
   "source": [
    "divide(10,5)"
   ]
  },
  {
   "cell_type": "code",
   "execution_count": 69,
   "metadata": {},
   "outputs": [
    {
     "data": {
      "text/plain": [
       "'Error ! Anda Tidak Bisa Membagi Dengan 0'"
      ]
     },
     "execution_count": 69,
     "metadata": {},
     "output_type": "execute_result"
    }
   ],
   "source": [
    "divide(5,0)"
   ]
  },
  {
   "cell_type": "code",
   "execution_count": 70,
   "metadata": {},
   "outputs": [],
   "source": [
    "def double_args(func):\n",
    "    def execute(a,b):\n",
    "        return func(a*2,b*2)\n",
    "    return execute"
   ]
  },
  {
   "cell_type": "code",
   "execution_count": 71,
   "metadata": {},
   "outputs": [
    {
     "data": {
      "text/plain": [
       "5"
      ]
     },
     "execution_count": 71,
     "metadata": {},
     "output_type": "execute_result"
    }
   ],
   "source": [
    "def persegi_panjang(p,l):\n",
    "    return p + l\n",
    "persegi_panjang(2,3)"
   ]
  },
  {
   "cell_type": "code",
   "execution_count": 72,
   "metadata": {},
   "outputs": [
    {
     "data": {
      "text/plain": [
       "10"
      ]
     },
     "execution_count": 72,
     "metadata": {},
     "output_type": "execute_result"
    }
   ],
   "source": [
    "duga = double_args(persegi_panjang)\n",
    "duga(2,3)"
   ]
  },
  {
   "cell_type": "code",
   "execution_count": 73,
   "metadata": {},
   "outputs": [
    {
     "data": {
      "text/plain": [
       "10"
      ]
     },
     "execution_count": 73,
     "metadata": {},
     "output_type": "execute_result"
    }
   ],
   "source": [
    "@double_args\n",
    "def persegi_panjang(p,l):\n",
    "    return p + l\n",
    "persegi_panjang(2,3)"
   ]
  },
  {
   "cell_type": "code",
   "execution_count": 74,
   "metadata": {},
   "outputs": [
    {
     "data": {
      "text/plain": [
       "'execute'"
      ]
     },
     "execution_count": 74,
     "metadata": {},
     "output_type": "execute_result"
    }
   ],
   "source": [
    "persegi_panjang.__name__"
   ]
  },
  {
   "cell_type": "code",
   "execution_count": 75,
   "metadata": {},
   "outputs": [],
   "source": [
    "# Membuat Decorator Accepted\n",
    "\n",
    "def Accepted(func):\n",
    "    def wrapper(*args, **kwargs):\n",
    "        result = func(*args, **kwargs)\n",
    "        print('{}() returned type {}'.format(\n",
    "            func.__name__, type(result)\n",
    "            ))\n",
    "        return result\n",
    "    return wrapper"
   ]
  },
  {
   "cell_type": "code",
   "execution_count": 76,
   "metadata": {},
   "outputs": [],
   "source": [
    "# Memakai Decorator Accepted\n",
    "\n",
    "@Accepted\n",
    "def foo(value):\n",
    "    return value"
   ]
  },
  {
   "cell_type": "code",
   "execution_count": 77,
   "metadata": {},
   "outputs": [
    {
     "name": "stdout",
     "output_type": "stream",
     "text": [
      "foo() returned type <class 'list'>\n"
     ]
    },
    {
     "data": {
      "text/plain": [
       "[1, 2, 3]"
      ]
     },
     "execution_count": 77,
     "metadata": {},
     "output_type": "execute_result"
    }
   ],
   "source": [
    "foo([1,2,3])"
   ]
  },
  {
   "cell_type": "code",
   "execution_count": 78,
   "metadata": {},
   "outputs": [
    {
     "name": "stdout",
     "output_type": "stream",
     "text": [
      "foo() returned type <class 'dict'>\n"
     ]
    },
    {
     "data": {
      "text/plain": [
       "{'a': 1, 'b': 2}"
      ]
     },
     "execution_count": 78,
     "metadata": {},
     "output_type": "execute_result"
    }
   ],
   "source": [
    "foo({'a':1,'b':2})"
   ]
  },
  {
   "cell_type": "code",
   "execution_count": 79,
   "metadata": {},
   "outputs": [],
   "source": [
    "# Bisakah Decorator memakai argument ?\n",
    "\n",
    "def banyak(n):\n",
    "    def fnc(func):\n",
    "        def berapa(*args,**kwargs):\n",
    "            for i in range(n):\n",
    "                func(*args,**kwargs)\n",
    "        return berapa\n",
    "    return fnc\n",
    "\n",
    "@banyak(5)\n",
    "def printi(a,b):\n",
    "    print(a*b)"
   ]
  },
  {
   "cell_type": "code",
   "execution_count": 80,
   "metadata": {},
   "outputs": [
    {
     "name": "stdout",
     "output_type": "stream",
     "text": [
      "6\n",
      "6\n",
      "6\n",
      "6\n",
      "6\n"
     ]
    }
   ],
   "source": [
    "printi(2,3)"
   ]
  },
  {
   "cell_type": "code",
   "execution_count": 81,
   "metadata": {},
   "outputs": [],
   "source": [
    "# Bisakah Decorator memakai argument ?\n",
    "\n",
    "def banyak(n):\n",
    "    def fnc(func):\n",
    "        def berapa(*args,**kwargs):\n",
    "            for i in range(n):\n",
    "                func(*args,**kwargs)\n",
    "        return berapa\n",
    "    return fnc\n",
    "\n",
    "@banyak(5)\n",
    "def printi(a,b):\n",
    "    print((2*a)*(2*b))"
   ]
  },
  {
   "cell_type": "code",
   "execution_count": 82,
   "metadata": {},
   "outputs": [
    {
     "name": "stdout",
     "output_type": "stream",
     "text": [
      "24\n",
      "24\n",
      "24\n",
      "24\n",
      "24\n"
     ]
    }
   ],
   "source": [
    "printi(2,3)"
   ]
  }
 ],
 "metadata": {
  "kernelspec": {
   "display_name": "Python 3",
   "language": "python",
   "name": "python3"
  },
  "language_info": {
   "codemirror_mode": {
    "name": "ipython",
    "version": 3
   },
   "file_extension": ".py",
   "mimetype": "text/x-python",
   "name": "python",
   "nbconvert_exporter": "python",
   "pygments_lexer": "ipython3",
   "version": "3.8.5"
  }
 },
 "nbformat": 4,
 "nbformat_minor": 4
}
