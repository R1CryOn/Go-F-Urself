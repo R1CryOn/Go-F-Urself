{
  "nbformat": 4,
  "nbformat_minor": 0,
  "metadata": {
    "colab": {
      "name": "Linear Regression.ipynb",
      "provenance": [],
      "collapsed_sections": []
    },
    "kernelspec": {
      "name": "python3",
      "display_name": "Python 3"
    },
    "language_info": {
      "name": "python"
    }
  },
  "cells": [
    {
      "cell_type": "code",
      "metadata": {
        "id": "b75dr5DJKvd0"
      },
      "source": [
        "import pandas as pd\n",
        "data = pd.read_csv('mpg.csv')\n",
        "data.corr()"
      ],
      "execution_count": null,
      "outputs": []
    },
    {
      "cell_type": "code",
      "metadata": {
        "id": "vRZkDwp2YJjY"
      },
      "source": [
        "data.info()"
      ],
      "execution_count": null,
      "outputs": []
    },
    {
      "cell_type": "code",
      "metadata": {
        "id": "pQkTvNNTYPu2"
      },
      "source": [
        "data['horsepower'].hist()"
      ],
      "execution_count": null,
      "outputs": []
    },
    {
      "cell_type": "code",
      "metadata": {
        "id": "Hc5wXilmYVFx"
      },
      "source": [
        "data['horsepower'].fillna(data['horsepower'].mean(),inplace=True)"
      ],
      "execution_count": null,
      "outputs": []
    },
    {
      "cell_type": "code",
      "metadata": {
        "id": "wA83qoZdhbeS"
      },
      "source": [
        "data['horsepower'].plot(kind='box')"
      ],
      "execution_count": null,
      "outputs": []
    },
    {
      "cell_type": "code",
      "metadata": {
        "id": "M5KI_tvoK563"
      },
      "source": [
        "import matplotlib.pyplot as plt\n",
        "\n",
        "plt.scatter(y=data['horsepower'],x=data['displacement'])\n",
        "plt.show()"
      ],
      "execution_count": null,
      "outputs": []
    },
    {
      "cell_type": "code",
      "metadata": {
        "id": "3f4LKm9TXINv"
      },
      "source": [
        "import seaborn as sns\n",
        "sns.regplot(x='displacement',y='horsepower',data=data)\n",
        "plt.show()"
      ],
      "execution_count": null,
      "outputs": []
    },
    {
      "cell_type": "code",
      "metadata": {
        "id": "PRCwvFqSXWD5"
      },
      "source": [
        "X = data[['displacement']]\n",
        "y = data[['horsepower']]\n",
        "\n",
        "from sklearn.linear_model import LinearRegression\n",
        "lr = LinearRegression()\n",
        "\n",
        "from sklearn.model_selection import train_test_split, cross_val_score\n",
        "X_train,X_test,y_train,y_test = train_test_split(X,y,random_state=42,test_size=0.2)\n",
        "\n",
        "cv = cross_val_score(lr,X_train,y_train,cv=5)\n",
        "cv"
      ],
      "execution_count": null,
      "outputs": []
    },
    {
      "cell_type": "code",
      "metadata": {
        "id": "6pLTNREnYeSE"
      },
      "source": [
        "cv.mean()"
      ],
      "execution_count": null,
      "outputs": []
    },
    {
      "cell_type": "code",
      "metadata": {
        "id": "7r1Gia4dYui0"
      },
      "source": [
        "lr.fit(X_train,y_train)"
      ],
      "execution_count": null,
      "outputs": []
    },
    {
      "cell_type": "code",
      "metadata": {
        "id": "kU66K6RKYyCj"
      },
      "source": [
        "lr.intercept_"
      ],
      "execution_count": null,
      "outputs": []
    },
    {
      "cell_type": "code",
      "metadata": {
        "id": "P0Gw7WWHY1ki"
      },
      "source": [
        "lr.coef_"
      ],
      "execution_count": null,
      "outputs": []
    },
    {
      "cell_type": "code",
      "metadata": {
        "id": "rqAEaMgNY4OT"
      },
      "source": [
        "pred = lr.predict(X_test)"
      ],
      "execution_count": null,
      "outputs": []
    },
    {
      "cell_type": "code",
      "metadata": {
        "id": "h05ZzA_EY7KL"
      },
      "source": [
        "pred.shape"
      ],
      "execution_count": null,
      "outputs": []
    },
    {
      "cell_type": "code",
      "metadata": {
        "id": "cpqVDqK7Y88E"
      },
      "source": [
        "pred[:5]"
      ],
      "execution_count": null,
      "outputs": []
    },
    {
      "cell_type": "code",
      "metadata": {
        "id": "OpfrVqxbY-xw"
      },
      "source": [
        "y_test[:5]"
      ],
      "execution_count": null,
      "outputs": []
    },
    {
      "cell_type": "code",
      "metadata": {
        "id": "xRoMW3z9ZD24"
      },
      "source": [
        "plt.scatter(X_test,y_test)\n",
        "plt.plot(X_test,pred)\n",
        "plt.show()"
      ],
      "execution_count": null,
      "outputs": []
    },
    {
      "cell_type": "code",
      "metadata": {
        "id": "72vBaVVLZMNa"
      },
      "source": [
        "from sklearn.metrics import mean_squared_error as mse\n",
        "print(mse(y_test,pred))"
      ],
      "execution_count": null,
      "outputs": []
    },
    {
      "cell_type": "code",
      "metadata": {
        "id": "LQzo8pHZbgh6"
      },
      "source": [
        "from sklearn.metrics import mean_absolute_error as mae\n",
        "print(mae(y_test,pred))"
      ],
      "execution_count": null,
      "outputs": []
    },
    {
      "cell_type": "markdown",
      "metadata": {
        "id": "FJcifldU_epR"
      },
      "source": [
        "# Second"
      ]
    },
    {
      "cell_type": "code",
      "metadata": {
        "id": "SWctmvtyiAP1"
      },
      "source": [
        "house = pd.read_csv('california_housing_train.csv')\n",
        "house.head(2)"
      ],
      "execution_count": null,
      "outputs": []
    },
    {
      "cell_type": "code",
      "metadata": {
        "id": "5VpTBIvWiKAX"
      },
      "source": [
        "round(house.corr(),2)"
      ],
      "execution_count": null,
      "outputs": []
    },
    {
      "cell_type": "code",
      "metadata": {
        "id": "VYRzFbhpiPdp"
      },
      "source": [
        "sns.regplot(x='total_bedrooms',y='households',data=house)\n",
        "plt.show()"
      ],
      "execution_count": null,
      "outputs": []
    },
    {
      "cell_type": "code",
      "metadata": {
        "id": "NB5LfsotirlC"
      },
      "source": [
        "house.shape"
      ],
      "execution_count": null,
      "outputs": []
    },
    {
      "cell_type": "code",
      "metadata": {
        "id": "s16_c4SDitW-"
      },
      "source": [
        "X_house = house[['total_bedrooms']]\n",
        "y_house = house[['households']]"
      ],
      "execution_count": null,
      "outputs": []
    },
    {
      "cell_type": "code",
      "metadata": {
        "id": "GfbLwKKzi4LF"
      },
      "source": [
        "X_train,X_test,y_train,y_test = train_test_split(X_house,y_house,test_size=0.05,random_state=2)"
      ],
      "execution_count": null,
      "outputs": []
    },
    {
      "cell_type": "code",
      "metadata": {
        "id": "QfSL3431jDGw"
      },
      "source": [
        "cv2 = cross_val_score(lr,X_train,y_train,cv=5)\n",
        "cv2"
      ],
      "execution_count": null,
      "outputs": []
    },
    {
      "cell_type": "code",
      "metadata": {
        "id": "oCFl7jlwjJo1"
      },
      "source": [
        "cv2.mean()"
      ],
      "execution_count": null,
      "outputs": []
    },
    {
      "cell_type": "code",
      "metadata": {
        "id": "6Tg0OHO6jLDm"
      },
      "source": [
        "lr.fit(X_train,y_train)\n",
        "lr.score(X_train,y_train)"
      ],
      "execution_count": null,
      "outputs": []
    },
    {
      "cell_type": "code",
      "metadata": {
        "id": "Ik-YvcTSjhft"
      },
      "source": [
        "pred = lr.predict(X_test)"
      ],
      "execution_count": null,
      "outputs": []
    },
    {
      "cell_type": "code",
      "metadata": {
        "id": "kCRhnIP8jkNJ"
      },
      "source": [
        "pred[:5]"
      ],
      "execution_count": null,
      "outputs": []
    },
    {
      "cell_type": "code",
      "metadata": {
        "id": "dU-VILOrjlTH"
      },
      "source": [
        "y_test[:5]"
      ],
      "execution_count": null,
      "outputs": []
    },
    {
      "cell_type": "code",
      "metadata": {
        "id": "rnypY25ajohV"
      },
      "source": [
        "plt.scatter(X_test,y_test)\n",
        "plt.plot(X_test,pred)\n",
        "plt.show()"
      ],
      "execution_count": null,
      "outputs": []
    },
    {
      "cell_type": "code",
      "metadata": {
        "id": "Y-8ThWV6qoh2"
      },
      "source": [
        "print(mse(y_test,pred))"
      ],
      "execution_count": null,
      "outputs": []
    }
  ]
}