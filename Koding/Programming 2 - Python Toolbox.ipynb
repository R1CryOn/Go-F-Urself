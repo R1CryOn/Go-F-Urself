{
 "cells": [
  {
   "cell_type": "markdown",
   "metadata": {},
   "source": [
    "<a href=\"#Python-Toolbox-Part-1\">Python Toolbox Part 1</a>\n",
    "<ol>\n",
    "    <li><a href=\"#User-Defined-Function\">User Defined Functions</a></li>\n",
    "    <li><a href=\"#Python-Function-Argument,-Scope\">Python Function Argument Scope</a></li>\n",
    "    <li><a href=\"#Lambda-Function-and-Error-Handling\">Lambda Function and Error Handling</a></li>\n",
    "</ol>\n",
    "<a href=\"#Python-Toolbox-Part-2\">Python Toolbox Part 2</a>\n",
    "<ol>\n",
    "    <li><a href=\"#Iterators\">Iterators</a></li>\n",
    "    <li><a href=\"#List-Comprehensions-and-Generators\">List Comprehensions and Generators</a></li>\n",
    "    <li><a href=\"#Why-Not-All-?\">Why Not All ?</a></li>\n",
    "</ol>"
   ]
  },
  {
   "cell_type": "markdown",
   "metadata": {},
   "source": [
    "# Python Toolbox Part 1"
   ]
  },
  {
   "cell_type": "markdown",
   "metadata": {},
   "source": [
    "## User Defined Function"
   ]
  },
  {
   "cell_type": "code",
   "execution_count": null,
   "metadata": {},
   "outputs": [],
   "source": [
    "# Membuat fungsi sederhana\n",
    "\n",
    "def dj():\n",
    "    print('Tiesto')"
   ]
  },
  {
   "cell_type": "code",
   "execution_count": null,
   "metadata": {},
   "outputs": [],
   "source": [
    "# Memanggil fungsi dj\n",
    "\n",
    "dj()"
   ]
  },
  {
   "cell_type": "code",
   "execution_count": null,
   "metadata": {},
   "outputs": [],
   "source": [
    "# Memasukkan input ke dalam function\n",
    "\n",
    "# input dalam function disebut parameter\n",
    "\n",
    "# single parameter\n",
    "\n",
    "def biodata(nama):\n",
    "    print('Nama Anda Adalah '+ nama)\n",
    "\n",
    "biodata('Martin Garrix')"
   ]
  },
  {
   "cell_type": "code",
   "execution_count": null,
   "metadata": {},
   "outputs": [],
   "source": [
    "# Multi parameter\n",
    "\n",
    "def kel_pp(p,l):\n",
    "    keliling = 2 * (p + l)\n",
    "    print(keliling)\n",
    "\n",
    "kel_pp(2,3)"
   ]
  },
  {
   "cell_type": "code",
   "execution_count": null,
   "metadata": {},
   "outputs": [],
   "source": [
    "# Keyword return, berguna untuk menampilkan output sekaligus mengakhiri fungsi\n",
    "# return = kembali\n",
    "# Konsep kembalian ketika belanja, ketika kita menerima / tidaknya kembalian, maka transaksi selesai dilakukan\n",
    "\n",
    "def kel_pp(p,l):\n",
    "    keliling = 2 * (p + l)\n",
    "    return keliling\n",
    "kel_pp(2,3)"
   ]
  },
  {
   "cell_type": "code",
   "execution_count": null,
   "metadata": {},
   "outputs": [],
   "source": [
    "# Fungsi nama berakhir di line 2\n",
    "\n",
    "def nama(i):\n",
    "    return i\n",
    "    print('i')\n",
    "    \n",
    "nama('Seth Hills')"
   ]
  },
  {
   "cell_type": "code",
   "execution_count": null,
   "metadata": {},
   "outputs": [],
   "source": [
    "# Multiple return\n",
    "\n",
    "def matematika(a,b):\n",
    "    tambah = a + b\n",
    "    kurang = a - b\n",
    "    kali = a * b\n",
    "    return (tambah,kurang,kali)\n",
    "\n",
    "mtk = matematika(4,2)\n",
    "add, sub, mul = mtk\n",
    "\n",
    "print('Hasil Penambahan : ',add)\n",
    "print('Hasil Pengurangan : ',sub)\n",
    "print('Hasil Perkalian : ',mul)"
   ]
  },
  {
   "cell_type": "markdown",
   "metadata": {},
   "source": [
    "### Python Function Argument, Scope"
   ]
  },
  {
   "cell_type": "markdown",
   "metadata": {},
   "source": [
    "#### Parameter Terdefinisi"
   ]
  },
  {
   "cell_type": "code",
   "execution_count": null,
   "metadata": {},
   "outputs": [],
   "source": [
    "def vol_balok(p,l,t):\n",
    "    return p * l * t\n",
    "\n",
    "vol_balok(1,2,3)"
   ]
  },
  {
   "cell_type": "code",
   "execution_count": null,
   "metadata": {},
   "outputs": [],
   "source": [
    "def vol_balok(p,l,t=3):\n",
    "    return p * l * t\n",
    "\n",
    "# vol_balok(p,l,t=3)\n",
    "vol_balok(1,2)"
   ]
  },
  {
   "cell_type": "code",
   "execution_count": null,
   "metadata": {},
   "outputs": [],
   "source": [
    "def vol_balok(p,l,t=3):\n",
    "    return p * l * t\n",
    "\n",
    "# vol_balok(p=1,l=2,t=4)\n",
    "vol_balok(1,2,4)"
   ]
  },
  {
   "cell_type": "markdown",
   "metadata": {},
   "source": [
    "#### Global Scope Variable and Local Scope Variable"
   ]
  },
  {
   "cell_type": "code",
   "execution_count": null,
   "metadata": {},
   "outputs": [],
   "source": [
    "# Global Scope Variable\n",
    "\n",
    "x = 10\n",
    "\n",
    "print(x)"
   ]
  },
  {
   "cell_type": "code",
   "execution_count": null,
   "metadata": {},
   "outputs": [],
   "source": [
    "x = 5\n",
    "\n",
    "def output():\n",
    "    return x\n",
    "\n",
    "output()"
   ]
  },
  {
   "cell_type": "code",
   "execution_count": null,
   "metadata": {},
   "outputs": [],
   "source": [
    "# Local Scope Variable\n",
    "\n",
    "def out():\n",
    "    y = 10\n",
    "    return y\n",
    "\n",
    "out()"
   ]
  },
  {
   "cell_type": "code",
   "execution_count": null,
   "metadata": {},
   "outputs": [],
   "source": [
    "def out():\n",
    "    y = 10\n",
    "    return y\n",
    "\n",
    "print(out())\n",
    "print(y)"
   ]
  },
  {
   "cell_type": "code",
   "execution_count": null,
   "metadata": {},
   "outputs": [],
   "source": [
    "# Bisakah kita menggunakan local dan global variable secara bersamaan ?\n",
    "\n",
    "x2 = 'Global'\n",
    "\n",
    "def test():\n",
    "    x2 = 'Local'\n",
    "    return x2\n",
    "\n",
    "print(x2)\n",
    "print(test())"
   ]
  },
  {
   "cell_type": "code",
   "execution_count": null,
   "metadata": {},
   "outputs": [],
   "source": [
    "# Cara merubah x2 Global menjadi Local\n",
    "x2 = 'Global'\n",
    "print('Sebelum : ' + x2)\n",
    "\n",
    "def test():\n",
    "    global x2\n",
    "    x2 = 'Local'\n",
    "    return x2\n",
    "\n",
    "test()\n",
    "print('Sesudah : ' + x2)"
   ]
  },
  {
   "cell_type": "markdown",
   "metadata": {},
   "source": [
    "#### Unlimited Parameter"
   ]
  },
  {
   "cell_type": "code",
   "execution_count": null,
   "metadata": {},
   "outputs": [],
   "source": [
    "def unlimited(*args):\n",
    "    for i in args:\n",
    "        print(i)"
   ]
  },
  {
   "cell_type": "code",
   "execution_count": null,
   "metadata": {},
   "outputs": [],
   "source": [
    "unlimited(1,2,3)"
   ]
  },
  {
   "cell_type": "code",
   "execution_count": null,
   "metadata": {},
   "outputs": [],
   "source": [
    "unlimited(1,2,3,4,5)"
   ]
  },
  {
   "cell_type": "markdown",
   "metadata": {},
   "source": [
    "#### Bisakah Argument Memiliki Keyword ?"
   ]
  },
  {
   "cell_type": "code",
   "execution_count": null,
   "metadata": {},
   "outputs": [],
   "source": [
    "def key(**kwargs):\n",
    "    for x,y in kwargs.items():\n",
    "        print('Keyword {} Memiliki Tipe Data {}'.format(x,type(y)))"
   ]
  },
  {
   "cell_type": "code",
   "execution_count": null,
   "metadata": {},
   "outputs": [],
   "source": [
    "key(a=10,b='Ayam')"
   ]
  },
  {
   "cell_type": "code",
   "execution_count": null,
   "metadata": {},
   "outputs": [],
   "source": [
    "key(a=10,b='Ayam',c=['1',2,True])"
   ]
  },
  {
   "cell_type": "markdown",
   "metadata": {},
   "source": [
    "#### Why Not Both ? Hehehe"
   ]
  },
  {
   "cell_type": "code",
   "execution_count": null,
   "metadata": {},
   "outputs": [],
   "source": [
    "def whynotboth(*unlimited,**defined):\n",
    "    i = 0\n",
    "    for key,value in defined.items():\n",
    "        print('Keyword {} Memiliki Tipe Data {}'.format(key,type(value)))\n",
    "        i+=1\n",
    "    print(i)"
   ]
  },
  {
   "cell_type": "code",
   "execution_count": null,
   "metadata": {},
   "outputs": [],
   "source": [
    "whynotboth(a=10,b='Ayam',c=['1',2,True])"
   ]
  },
  {
   "cell_type": "markdown",
   "metadata": {},
   "source": [
    "<h3>Lambda Function and Error Handling</h3>"
   ]
  },
  {
   "cell_type": "markdown",
   "metadata": {},
   "source": [
    "<h4>Lambda Function</h4>A lambda function is a small anonymous function, can take any number of arguments, but can only have one expression"
   ]
  },
  {
   "cell_type": "code",
   "execution_count": null,
   "metadata": {},
   "outputs": [],
   "source": [
    "#lambda argument:expression\n",
    "\n",
    "# Memakai operator Aritmatika dalam lambda\n",
    "lambda_1 = lambda x : x + 5\n",
    "lambda_1(5)"
   ]
  },
  {
   "cell_type": "code",
   "execution_count": null,
   "metadata": {},
   "outputs": [],
   "source": [
    "stri = 'Kelvin'\n",
    "\n",
    "# Memakai string ke dalam lambda\n",
    "lambda_2 = lambda st : st.lower()\n",
    "lambda_2(stri)"
   ]
  },
  {
   "cell_type": "code",
   "execution_count": null,
   "metadata": {},
   "outputs": [],
   "source": [
    "def segitiga(a,t):\n",
    "    lu = (a * t)/2\n",
    "    return lu\n",
    "\n",
    "# Memakai function ke dalam lambda\n",
    "lam_3 = lambda x,y : segitiga(x,y)\n",
    "lam_3(3,2)"
   ]
  },
  {
   "cell_type": "code",
   "execution_count": null,
   "metadata": {},
   "outputs": [],
   "source": [
    "lam4 = (lambda x,n : x * n)\n",
    "lam4('Hei',3)"
   ]
  },
  {
   "cell_type": "code",
   "execution_count": null,
   "metadata": {},
   "outputs": [],
   "source": [
    "nama = ['Tiesto','Martin Garrix','David Guetta']\n",
    "\n",
    "res = map(lambda x : x.lower(),nama)\n",
    "\n",
    "print(list(res))"
   ]
  },
  {
   "cell_type": "code",
   "execution_count": null,
   "metadata": {},
   "outputs": [],
   "source": [
    "def lower(i):\n",
    "    return i.lower()\n",
    "\n",
    "res = map(lambda x : lower(x), nama)\n",
    "\n",
    "print(list(res))"
   ]
  },
  {
   "cell_type": "markdown",
   "metadata": {},
   "source": [
    "<h4>Error Exception</h4>"
   ]
  },
  {
   "cell_type": "code",
   "execution_count": null,
   "metadata": {},
   "outputs": [],
   "source": [
    "# try and except\n",
    "x = 5\n",
    "\n",
    "try:\n",
    "    print(x)\n",
    "except:\n",
    "    print('Error')"
   ]
  },
  {
   "cell_type": "code",
   "execution_count": null,
   "metadata": {},
   "outputs": [],
   "source": [
    "print(y)"
   ]
  },
  {
   "cell_type": "code",
   "execution_count": null,
   "metadata": {},
   "outputs": [],
   "source": [
    "try:\n",
    "    print(y)\n",
    "except:\n",
    "    print('variable y is undefined')"
   ]
  },
  {
   "cell_type": "code",
   "execution_count": null,
   "metadata": {},
   "outputs": [],
   "source": [
    "try:\n",
    "    print(y)\n",
    "except NameError:\n",
    "    print('y is not defined')"
   ]
  },
  {
   "cell_type": "code",
   "execution_count": null,
   "metadata": {},
   "outputs": [],
   "source": [
    "# try except else\n",
    "\n",
    "try:\n",
    "    print('Hello')\n",
    "except:\n",
    "    print('Mission Failed')\n",
    "else:\n",
    "    print('Mission Success')"
   ]
  },
  {
   "cell_type": "code",
   "execution_count": null,
   "metadata": {},
   "outputs": [],
   "source": [
    "# try except finally\n",
    "\n",
    "# finally akan berjalan apapun yang terjadi\n",
    "\n",
    "try:\n",
    "    print(y)\n",
    "except:\n",
    "    print('y is not defined')\n",
    "finally:\n",
    "    print('Try except is done')"
   ]
  },
  {
   "cell_type": "code",
   "execution_count": null,
   "metadata": {},
   "outputs": [],
   "source": [
    "# raise -> Memodifikasi pesan error\n",
    "\n",
    "y = 4\n",
    "if type(y) != str:\n",
    "    raise NameError('mana ada variable y tu string, lah jaleh itu int, jangan ngadi-ngadi')"
   ]
  },
  {
   "cell_type": "code",
   "execution_count": null,
   "metadata": {},
   "outputs": [],
   "source": [
    "def bagi(a,b):\n",
    "    \n",
    "    if type(a) == str or type(b) == str:\n",
    "        raise TypeError('Hanya menerima input bilangan')\n",
    "    \n",
    "    if b <= 0:\n",
    "        raise Exception('Error ! Bilangan tidak bisa dibagi 0')\n",
    "        \n",
    "    return a / b"
   ]
  },
  {
   "cell_type": "code",
   "execution_count": null,
   "metadata": {},
   "outputs": [],
   "source": [
    "bagi(2,0)"
   ]
  },
  {
   "cell_type": "code",
   "execution_count": null,
   "metadata": {},
   "outputs": [],
   "source": [
    "a = '5'\n",
    "bagi(2,a)"
   ]
  },
  {
   "cell_type": "code",
   "execution_count": null,
   "metadata": {},
   "outputs": [],
   "source": [
    "bagi(3.3,2)"
   ]
  },
  {
   "cell_type": "markdown",
   "metadata": {},
   "source": [
    "# Python Toolbox Part 2"
   ]
  },
  {
   "cell_type": "markdown",
   "metadata": {},
   "source": [
    "## Iterators\n",
    "Iterate = Pengulangan<br>Iterators = Yang mengulang<br>Iterable adalah object yang bisa di Iterate, contoh, list, string, dict, etc"
   ]
  },
  {
   "cell_type": "code",
   "execution_count": null,
   "metadata": {},
   "outputs": [],
   "source": [
    "x = 'Ke'\n",
    "\n",
    "print(iter(x))"
   ]
  },
  {
   "cell_type": "code",
   "execution_count": null,
   "metadata": {},
   "outputs": [],
   "source": [
    "it = iter(x)\n",
    "print(next(it))\n",
    "print(next(it))"
   ]
  },
  {
   "cell_type": "code",
   "execution_count": null,
   "metadata": {},
   "outputs": [],
   "source": [
    "y = [1,2]\n",
    "\n",
    "ite = iter(y)\n",
    "print(next(ite))\n",
    "print(next(ite))"
   ]
  },
  {
   "cell_type": "code",
   "execution_count": null,
   "metadata": {},
   "outputs": [],
   "source": [
    "word = 'Data'\n",
    "\n",
    "itera = iter(word)\n",
    "\n",
    "print(*itera)"
   ]
  },
  {
   "cell_type": "code",
   "execution_count": null,
   "metadata": {},
   "outputs": [],
   "source": [
    "y = [1,2,3,4]\n",
    "\n",
    "ite = iter(y)\n",
    "\n",
    "print(*ite)"
   ]
  },
  {
   "cell_type": "code",
   "execution_count": null,
   "metadata": {},
   "outputs": [],
   "source": [
    "bio = {\n",
    "    'Nama':'Ujangan',\n",
    "    'Panggilan':'Jang',\n",
    "    'Alamat':'Rumah'\n",
    "}\n",
    "\n",
    "for i in bio:\n",
    "    print(i)"
   ]
  },
  {
   "cell_type": "code",
   "execution_count": null,
   "metadata": {},
   "outputs": [],
   "source": [
    "bio = {\n",
    "    'Nama':'Ujangan',\n",
    "    'Panggilan':'Jang',\n",
    "    'Alamat':'Rumah'\n",
    "}\n",
    "\n",
    "try:\n",
    "    for i,j in bio:\n",
    "        print(i,j)\n",
    "except:\n",
    "    print('Error ! too many values to unpack (expected 2)')"
   ]
  },
  {
   "cell_type": "code",
   "execution_count": null,
   "metadata": {},
   "outputs": [],
   "source": [
    "for i,j in bio.items():\n",
    "    print(i,j)"
   ]
  },
  {
   "cell_type": "markdown",
   "metadata": {},
   "source": [
    "Semisal ada 1 orang yang menerima satu kue, maka rata<br>Bayangkan ada 2 orang yang menginginkan 1 kue yang sama, tentu harus di 'pecah' / di 'bagi', itulah gunanya .items() pada dictionary, untuk memecah nilai menjadi 2, key dan values<br>Dictionary terdiri dari keys, values yang disatukan jadi 'satu kue' yang sama"
   ]
  },
  {
   "cell_type": "markdown",
   "metadata": {},
   "source": [
    "#### Enumerate"
   ]
  },
  {
   "cell_type": "code",
   "execution_count": null,
   "metadata": {},
   "outputs": [],
   "source": [
    "Li = ['Nol','Satu','Dua','Tiga','Empat']\n",
    "\n",
    "em = enumerate(Li)\n",
    "li_em = list(em)\n",
    "li_em"
   ]
  },
  {
   "cell_type": "code",
   "execution_count": null,
   "metadata": {},
   "outputs": [],
   "source": [
    "for index, values in enumerate(Li):\n",
    "    print(index,values)"
   ]
  },
  {
   "cell_type": "markdown",
   "metadata": {},
   "source": [
    "#### ZIP"
   ]
  },
  {
   "cell_type": "code",
   "execution_count": null,
   "metadata": {},
   "outputs": [],
   "source": [
    "Li1 = [0,1,2,3]\n",
    "Li2 = ['Zero','One','Two','Three']\n",
    "\n",
    "zi = zip(Li1,Li2)\n",
    "li_zi = list(zi)\n",
    "li_zi"
   ]
  },
  {
   "cell_type": "code",
   "execution_count": null,
   "metadata": {},
   "outputs": [],
   "source": [
    "Li1 = [0,1,2,3]\n",
    "Li2 = ['Zero','One','Two','Three']\n",
    "\n",
    "zi = zip(Li1,Li2)\n",
    "li_zi = list(zi)\n",
    "print(*li_zi)"
   ]
  },
  {
   "cell_type": "code",
   "execution_count": null,
   "metadata": {},
   "outputs": [],
   "source": [
    "Li1 = [0,1,2,3]\n",
    "Li2 = ['Zero','One','Two','Three']\n",
    "\n",
    "for li1, li2 in zip(Li1,Li2):\n",
    "    print(li1,li2)"
   ]
  },
  {
   "cell_type": "code",
   "execution_count": null,
   "metadata": {},
   "outputs": [],
   "source": [
    "import pandas as pd\n",
    "\n",
    "counts_dict = {}\n",
    "\n",
    "# Iterate over the file chunk by chunk\n",
    "for chunk in pd.read_csv('tweets.csv', chunksize=10):\n",
    "\n",
    "    # Iterate over the column in DataFrame\n",
    "    for entry in chunk['lang']:\n",
    "        if entry in counts_dict.keys():\n",
    "            counts_dict[entry] += 1\n",
    "        else:\n",
    "            counts_dict[entry] = 1\n",
    "\n",
    "# Print the populated dictionary\n",
    "print(counts_dict)"
   ]
  },
  {
   "cell_type": "markdown",
   "metadata": {},
   "source": [
    "## List Comprehensions and Generators"
   ]
  },
  {
   "cell_type": "code",
   "execution_count": null,
   "metadata": {},
   "outputs": [],
   "source": [
    "a = [1,2,3,4,5]\n",
    "\n",
    "b = []\n",
    "\n",
    "for i in a:\n",
    "    b.append(i*2)\n",
    "b"
   ]
  },
  {
   "cell_type": "markdown",
   "metadata": {},
   "source": [
    "[akibat, sebab]"
   ]
  },
  {
   "cell_type": "code",
   "execution_count": null,
   "metadata": {},
   "outputs": [],
   "source": [
    "b = [i * 2 for i in a]\n",
    "b"
   ]
  },
  {
   "cell_type": "code",
   "execution_count": null,
   "metadata": {},
   "outputs": [],
   "source": [
    "c = [item for item in range(10)]\n",
    "c"
   ]
  },
  {
   "cell_type": "code",
   "execution_count": null,
   "metadata": {},
   "outputs": [],
   "source": [
    "d = [(li1 * li2) for li1, li2 in zip(range(5),range(5))]\n",
    "d"
   ]
  },
  {
   "cell_type": "code",
   "execution_count": null,
   "metadata": {},
   "outputs": [],
   "source": [
    "heroes = ['Superman','Spiderman']\n",
    "\n",
    "low_hero = [hero.lower() for hero in heroes]\n",
    "low_hero"
   ]
  },
  {
   "cell_type": "code",
   "execution_count": null,
   "metadata": {},
   "outputs": [],
   "source": [
    "random = [hero[0].lower() for hero in heroes]\n",
    "random"
   ]
  },
  {
   "cell_type": "code",
   "execution_count": null,
   "metadata": {},
   "outputs": [],
   "source": [
    "kalimat = 'ayam'\n",
    "\n",
    "big = [huruf.upper() for huruf in kalimat]\n",
    "big"
   ]
  },
  {
   "cell_type": "code",
   "execution_count": null,
   "metadata": {},
   "outputs": [],
   "source": [
    "bio = {\n",
    "    'nama':'Kelvin',\n",
    "    'umur':21\n",
    "}\n",
    "\n",
    "random = [(key,value) for key, value in bio.items()]\n",
    "random"
   ]
  },
  {
   "cell_type": "code",
   "execution_count": null,
   "metadata": {},
   "outputs": [],
   "source": [
    "a = 20\n",
    "\n",
    "try:\n",
    "    test = [i*2 for i in a]\n",
    "    test\n",
    "except:\n",
    "    print('Error')"
   ]
  },
  {
   "cell_type": "code",
   "execution_count": null,
   "metadata": {},
   "outputs": [],
   "source": [
    "mat = [[col for col in range(3)] for row in range(2)]\n",
    "\n",
    "for row in mat:\n",
    "    print(row)"
   ]
  },
  {
   "cell_type": "code",
   "execution_count": null,
   "metadata": {},
   "outputs": [],
   "source": [
    "mat"
   ]
  },
  {
   "cell_type": "code",
   "execution_count": null,
   "metadata": {},
   "outputs": [],
   "source": [
    "a = [[i] for i in range(3)]\n",
    "a"
   ]
  },
  {
   "cell_type": "code",
   "execution_count": null,
   "metadata": {},
   "outputs": [],
   "source": [
    "for i in range(10):\n",
    "    if i % 2 == 0:\n",
    "        print(i)"
   ]
  },
  {
   "cell_type": "markdown",
   "metadata": {},
   "source": [
    "[akibat sebab 1 sebab 2]"
   ]
  },
  {
   "cell_type": "code",
   "execution_count": null,
   "metadata": {},
   "outputs": [],
   "source": [
    "gen = [i for i in range(10) if i % 2 == 0]\n",
    "gen"
   ]
  },
  {
   "cell_type": "code",
   "execution_count": null,
   "metadata": {},
   "outputs": [],
   "source": [
    "gen2 = [i if i % 2 == 0 else 0 for i in range(10)]\n",
    "gen2"
   ]
  },
  {
   "cell_type": "code",
   "execution_count": null,
   "metadata": {},
   "outputs": [],
   "source": [
    "li1 = ['a','b']\n",
    "li2 = ['huruf a','huruf b']\n",
    "bio = {key : values for key, values in zip(li1,li2)}\n",
    "print(bio)\n",
    "print(type(bio))"
   ]
  },
  {
   "cell_type": "code",
   "execution_count": null,
   "metadata": {},
   "outputs": [],
   "source": [
    "nama = ['Ayam','Kucing']\n",
    "kaki = [2,4]\n",
    "\n",
    "for name, foot in zip(nama,kaki):\n",
    "    if foot == 2:\n",
    "        print(name)"
   ]
  },
  {
   "cell_type": "code",
   "execution_count": null,
   "metadata": {},
   "outputs": [],
   "source": [
    "kaki4 = [name for name, foot in zip(nama,kaki) if foot == 2]\n",
    "kaki4"
   ]
  },
  {
   "cell_type": "code",
   "execution_count": null,
   "metadata": {},
   "outputs": [],
   "source": [
    "a = (1,2,3)\n",
    "print(type(a))"
   ]
  },
  {
   "cell_type": "code",
   "execution_count": null,
   "metadata": {},
   "outputs": [],
   "source": [
    "b = (i for i in range(3))\n",
    "print(type(b))"
   ]
  },
  {
   "cell_type": "code",
   "execution_count": null,
   "metadata": {},
   "outputs": [],
   "source": [
    "b"
   ]
  },
  {
   "cell_type": "code",
   "execution_count": null,
   "metadata": {},
   "outputs": [],
   "source": [
    "li = list(b)\n",
    "print(li)"
   ]
  },
  {
   "cell_type": "code",
   "execution_count": null,
   "metadata": {},
   "outputs": [],
   "source": [
    "import pandas as pd\n",
    "df = pd.read_csv('tweets.csv')\n",
    "df.head(1)"
   ]
  },
  {
   "cell_type": "code",
   "execution_count": null,
   "metadata": {},
   "outputs": [],
   "source": [
    "# Extract the created_at column from df: tweet_time\n",
    "tweet_time = df['created_at']\n",
    "\n",
    "# Extract the clock time: tweet_clock_time\n",
    "tweet_clock_time = [entry[11:19] for entry in tweet_time]\n",
    "\n",
    "# Print the extracted times\n",
    "print(tweet_clock_time[:5])"
   ]
  },
  {
   "cell_type": "code",
   "execution_count": null,
   "metadata": {},
   "outputs": [],
   "source": [
    "a = [entry[11:19] for entry in tweet_time if entry[17:19]=='19']\n",
    "a[:5]"
   ]
  },
  {
   "cell_type": "code",
   "execution_count": null,
   "metadata": {},
   "outputs": [],
   "source": [
    "import pandas as pd\n",
    "world = pd.read_csv('world_bank.csv')"
   ]
  },
  {
   "cell_type": "code",
   "execution_count": null,
   "metadata": {},
   "outputs": [],
   "source": [
    "feature_names = world.columns.to_list()\n",
    "row_vals = world.iloc[0].to_list()"
   ]
  },
  {
   "cell_type": "code",
   "execution_count": null,
   "metadata": {},
   "outputs": [],
   "source": [
    "# Zip lists: zipped_lists\n",
    "zipped_lists = zip(feature_names, row_vals)\n",
    "\n",
    "# Create a dictionary: rs_dict\n",
    "rs_dict = dict(zipped_lists)\n",
    "\n",
    "# Print the dictionary\n",
    "print(rs_dict)"
   ]
  },
  {
   "cell_type": "code",
   "execution_count": null,
   "metadata": {},
   "outputs": [],
   "source": [
    "def ziplist(list1,list2):\n",
    "    zp = zip(list1,list2)\n",
    "    dicti = dict(zp)\n",
    "    return dicti"
   ]
  },
  {
   "cell_type": "code",
   "execution_count": null,
   "metadata": {},
   "outputs": [],
   "source": [
    "import pandas as pd\n",
    "df = pd.read_csv('world_bank.csv')\n",
    "df.memory_usage()"
   ]
  },
  {
   "cell_type": "code",
   "execution_count": null,
   "metadata": {},
   "outputs": [],
   "source": [
    "import pandas as pd\n",
    "df = pd.read_csv('world_bank.csv',chunksize=5)\n",
    "nxt = next(df)\n",
    "# print(nxt.shape) # (5,5)\n",
    "nxt.memory_usage()"
   ]
  },
  {
   "cell_type": "code",
   "execution_count": null,
   "metadata": {},
   "outputs": [],
   "source": [
    "nxt.head()"
   ]
  },
  {
   "cell_type": "code",
   "execution_count": null,
   "metadata": {},
   "outputs": [],
   "source": [
    "import pandas as pd\n",
    "df = pd.read_csv('world_bank.csv',chunksize=10)\n",
    "nxt = next(df)\n",
    "print(nxt.shape) # (10,5)\n",
    "# nxt.head()"
   ]
  }
 ],
 "metadata": {
  "kernelspec": {
   "display_name": "Python 3",
   "language": "python",
   "name": "python3"
  },
  "language_info": {
   "codemirror_mode": {
    "name": "ipython",
    "version": 3
   },
   "file_extension": ".py",
   "mimetype": "text/x-python",
   "name": "python",
   "nbconvert_exporter": "python",
   "pygments_lexer": "ipython3",
   "version": "3.8.5"
  }
 },
 "nbformat": 4,
 "nbformat_minor": 4
}
