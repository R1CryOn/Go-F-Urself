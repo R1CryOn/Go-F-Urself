{
 "cells": [
  {
   "cell_type": "markdown",
   "metadata": {},
   "source": [
    "Bias = Seberapa jauh hasil prediksi dengan hasil asli<br>\n",
    "Variance = Seberapa bagus model yang kita bangun dalam menangani unseen data<br>\n",
    "yang dicari adalah, low bias dan low variance<br>\n",
    "Model complexity adalah fleksibilitas dari model yang kita bangun<br>\n",
    "As the complexity of <b>model</b> increases, the bias term decreases while the variance term increases"
   ]
  },
  {
   "cell_type": "markdown",
   "metadata": {},
   "source": [
    "# Voting Classifier"
   ]
  },
  {
   "cell_type": "code",
   "execution_count": 1,
   "metadata": {},
   "outputs": [],
   "source": [
    "import pandas as pd\n",
    "import numpy as np\n",
    "import matplotlib.pyplot as plt\n",
    "import seaborn as sns\n",
    "from sklearn.preprocessing import StandardScaler"
   ]
  },
  {
   "cell_type": "code",
   "execution_count": 2,
   "metadata": {},
   "outputs": [
    {
     "data": {
      "text/html": [
       "<div>\n",
       "<style scoped>\n",
       "    .dataframe tbody tr th:only-of-type {\n",
       "        vertical-align: middle;\n",
       "    }\n",
       "\n",
       "    .dataframe tbody tr th {\n",
       "        vertical-align: top;\n",
       "    }\n",
       "\n",
       "    .dataframe thead th {\n",
       "        text-align: right;\n",
       "    }\n",
       "</style>\n",
       "<table border=\"1\" class=\"dataframe\">\n",
       "  <thead>\n",
       "    <tr style=\"text-align: right;\">\n",
       "      <th></th>\n",
       "      <th>age</th>\n",
       "      <th>gender</th>\n",
       "      <th>tot_bilirubin</th>\n",
       "      <th>direct_bilirubin</th>\n",
       "      <th>tot_proteins</th>\n",
       "      <th>albumin</th>\n",
       "      <th>ag_ratio</th>\n",
       "      <th>sgpt</th>\n",
       "      <th>sgot</th>\n",
       "      <th>alkphos</th>\n",
       "      <th>is_patient</th>\n",
       "    </tr>\n",
       "  </thead>\n",
       "  <tbody>\n",
       "    <tr>\n",
       "      <th>0</th>\n",
       "      <td>65</td>\n",
       "      <td>Female</td>\n",
       "      <td>0.7</td>\n",
       "      <td>0.1</td>\n",
       "      <td>187</td>\n",
       "      <td>16</td>\n",
       "      <td>18</td>\n",
       "      <td>6.8</td>\n",
       "      <td>3.3</td>\n",
       "      <td>0.90</td>\n",
       "      <td>1</td>\n",
       "    </tr>\n",
       "    <tr>\n",
       "      <th>1</th>\n",
       "      <td>62</td>\n",
       "      <td>Male</td>\n",
       "      <td>10.9</td>\n",
       "      <td>5.5</td>\n",
       "      <td>699</td>\n",
       "      <td>64</td>\n",
       "      <td>100</td>\n",
       "      <td>7.5</td>\n",
       "      <td>3.2</td>\n",
       "      <td>0.74</td>\n",
       "      <td>1</td>\n",
       "    </tr>\n",
       "    <tr>\n",
       "      <th>2</th>\n",
       "      <td>62</td>\n",
       "      <td>Male</td>\n",
       "      <td>7.3</td>\n",
       "      <td>4.1</td>\n",
       "      <td>490</td>\n",
       "      <td>60</td>\n",
       "      <td>68</td>\n",
       "      <td>7.0</td>\n",
       "      <td>3.3</td>\n",
       "      <td>0.89</td>\n",
       "      <td>1</td>\n",
       "    </tr>\n",
       "    <tr>\n",
       "      <th>3</th>\n",
       "      <td>58</td>\n",
       "      <td>Male</td>\n",
       "      <td>1.0</td>\n",
       "      <td>0.4</td>\n",
       "      <td>182</td>\n",
       "      <td>14</td>\n",
       "      <td>20</td>\n",
       "      <td>6.8</td>\n",
       "      <td>3.4</td>\n",
       "      <td>1.00</td>\n",
       "      <td>1</td>\n",
       "    </tr>\n",
       "    <tr>\n",
       "      <th>4</th>\n",
       "      <td>72</td>\n",
       "      <td>Male</td>\n",
       "      <td>3.9</td>\n",
       "      <td>2.0</td>\n",
       "      <td>195</td>\n",
       "      <td>27</td>\n",
       "      <td>59</td>\n",
       "      <td>7.3</td>\n",
       "      <td>2.4</td>\n",
       "      <td>0.40</td>\n",
       "      <td>1</td>\n",
       "    </tr>\n",
       "  </tbody>\n",
       "</table>\n",
       "</div>"
      ],
      "text/plain": [
       "   age  gender  tot_bilirubin  direct_bilirubin  tot_proteins  albumin  \\\n",
       "0   65  Female            0.7               0.1           187       16   \n",
       "1   62    Male           10.9               5.5           699       64   \n",
       "2   62    Male            7.3               4.1           490       60   \n",
       "3   58    Male            1.0               0.4           182       14   \n",
       "4   72    Male            3.9               2.0           195       27   \n",
       "\n",
       "   ag_ratio  sgpt  sgot  alkphos  is_patient  \n",
       "0        18   6.8   3.3     0.90           1  \n",
       "1       100   7.5   3.2     0.74           1  \n",
       "2        68   7.0   3.3     0.89           1  \n",
       "3        20   6.8   3.4     1.00           1  \n",
       "4        59   7.3   2.4     0.40           1  "
      ]
     },
     "execution_count": 2,
     "metadata": {},
     "output_type": "execute_result"
    }
   ],
   "source": [
    "liver = pd.read_csv('../Data/liver.csv')\n",
    "liver.head()"
   ]
  },
  {
   "cell_type": "code",
   "execution_count": 3,
   "metadata": {},
   "outputs": [
    {
     "data": {
      "text/html": [
       "<div>\n",
       "<style scoped>\n",
       "    .dataframe tbody tr th:only-of-type {\n",
       "        vertical-align: middle;\n",
       "    }\n",
       "\n",
       "    .dataframe tbody tr th {\n",
       "        vertical-align: top;\n",
       "    }\n",
       "\n",
       "    .dataframe thead th {\n",
       "        text-align: right;\n",
       "    }\n",
       "</style>\n",
       "<table border=\"1\" class=\"dataframe\">\n",
       "  <thead>\n",
       "    <tr style=\"text-align: right;\">\n",
       "      <th></th>\n",
       "      <th>age</th>\n",
       "      <th>gender</th>\n",
       "      <th>tot_bilirubin</th>\n",
       "      <th>direct_bilirubin</th>\n",
       "      <th>tot_proteins</th>\n",
       "      <th>albumin</th>\n",
       "      <th>ag_ratio</th>\n",
       "      <th>sgpt</th>\n",
       "      <th>sgot</th>\n",
       "      <th>alkphos</th>\n",
       "      <th>is_patient</th>\n",
       "    </tr>\n",
       "  </thead>\n",
       "  <tbody>\n",
       "    <tr>\n",
       "      <th>0</th>\n",
       "      <td>65</td>\n",
       "      <td>0</td>\n",
       "      <td>0.7</td>\n",
       "      <td>0.1</td>\n",
       "      <td>187</td>\n",
       "      <td>16</td>\n",
       "      <td>18</td>\n",
       "      <td>6.8</td>\n",
       "      <td>3.3</td>\n",
       "      <td>0.90</td>\n",
       "      <td>1</td>\n",
       "    </tr>\n",
       "    <tr>\n",
       "      <th>1</th>\n",
       "      <td>62</td>\n",
       "      <td>1</td>\n",
       "      <td>10.9</td>\n",
       "      <td>5.5</td>\n",
       "      <td>699</td>\n",
       "      <td>64</td>\n",
       "      <td>100</td>\n",
       "      <td>7.5</td>\n",
       "      <td>3.2</td>\n",
       "      <td>0.74</td>\n",
       "      <td>1</td>\n",
       "    </tr>\n",
       "  </tbody>\n",
       "</table>\n",
       "</div>"
      ],
      "text/plain": [
       "   age  gender  tot_bilirubin  direct_bilirubin  tot_proteins  albumin  \\\n",
       "0   65       0            0.7               0.1           187       16   \n",
       "1   62       1           10.9               5.5           699       64   \n",
       "\n",
       "   ag_ratio  sgpt  sgot  alkphos  is_patient  \n",
       "0        18   6.8   3.3     0.90           1  \n",
       "1       100   7.5   3.2     0.74           1  "
      ]
     },
     "execution_count": 3,
     "metadata": {},
     "output_type": "execute_result"
    }
   ],
   "source": [
    "from sklearn.preprocessing import LabelEncoder\n",
    "le = LabelEncoder()\n",
    "liver['gender'] = le.fit_transform(liver['gender'])\n",
    "liver.head(2)"
   ]
  },
  {
   "cell_type": "code",
   "execution_count": 4,
   "metadata": {},
   "outputs": [],
   "source": [
    "feature = liver.drop('is_patient',1)\n",
    "liver = liver['is_patient']"
   ]
  },
  {
   "cell_type": "code",
   "execution_count": 5,
   "metadata": {},
   "outputs": [
    {
     "data": {
      "text/plain": [
       "age                 0\n",
       "gender              0\n",
       "tot_bilirubin       0\n",
       "direct_bilirubin    0\n",
       "tot_proteins        0\n",
       "albumin             0\n",
       "ag_ratio            0\n",
       "sgpt                0\n",
       "sgot                0\n",
       "alkphos             4\n",
       "dtype: int64"
      ]
     },
     "execution_count": 5,
     "metadata": {},
     "output_type": "execute_result"
    }
   ],
   "source": [
    "feature.isnull().sum()"
   ]
  },
  {
   "cell_type": "code",
   "execution_count": 6,
   "metadata": {},
   "outputs": [
    {
     "data": {
      "image/png": "[encoded data removed]",
      "text/plain": [
       "<Figure size 432x288 with 1 Axes>"
      ]
     },
     "metadata": {
      "needs_background": "light"
     },
     "output_type": "display_data"
    }
   ],
   "source": [
    "feature['alkphos'].hist()\n",
    "plt.show()"
   ]
  },
  {
   "cell_type": "code",
   "execution_count": 7,
   "metadata": {},
   "outputs": [],
   "source": [
    "feature['alkphos'] = feature['alkphos'].fillna(feature['alkphos'].mean())"
   ]
  },
  {
   "cell_type": "code",
   "execution_count": 8,
   "metadata": {},
   "outputs": [
    {
     "data": {
      "text/html": [
       "<div>\n",
       "<style scoped>\n",
       "    .dataframe tbody tr th:only-of-type {\n",
       "        vertical-align: middle;\n",
       "    }\n",
       "\n",
       "    .dataframe tbody tr th {\n",
       "        vertical-align: top;\n",
       "    }\n",
       "\n",
       "    .dataframe thead th {\n",
       "        text-align: right;\n",
       "    }\n",
       "</style>\n",
       "<table border=\"1\" class=\"dataframe\">\n",
       "  <thead>\n",
       "    <tr style=\"text-align: right;\">\n",
       "      <th></th>\n",
       "      <th>age</th>\n",
       "      <th>gender</th>\n",
       "      <th>tot_bilirubin</th>\n",
       "      <th>direct_bilirubin</th>\n",
       "      <th>tot_proteins</th>\n",
       "      <th>albumin</th>\n",
       "      <th>ag_ratio</th>\n",
       "      <th>sgpt</th>\n",
       "      <th>sgot</th>\n",
       "      <th>alkphos</th>\n",
       "    </tr>\n",
       "  </thead>\n",
       "  <tbody>\n",
       "    <tr>\n",
       "      <th>0</th>\n",
       "      <td>1.252098</td>\n",
       "      <td>-1.762281</td>\n",
       "      <td>-0.418878</td>\n",
       "      <td>-0.493964</td>\n",
       "      <td>-0.426715</td>\n",
       "      <td>-0.354665</td>\n",
       "      <td>-0.318393</td>\n",
       "      <td>0.292120</td>\n",
       "      <td>0.198969</td>\n",
       "      <td>-0.147898</td>\n",
       "    </tr>\n",
       "    <tr>\n",
       "      <th>1</th>\n",
       "      <td>1.066637</td>\n",
       "      <td>0.567446</td>\n",
       "      <td>1.225171</td>\n",
       "      <td>1.430423</td>\n",
       "      <td>1.682629</td>\n",
       "      <td>-0.091599</td>\n",
       "      <td>-0.034333</td>\n",
       "      <td>0.937566</td>\n",
       "      <td>0.073157</td>\n",
       "      <td>-0.650697</td>\n",
       "    </tr>\n",
       "    <tr>\n",
       "      <th>2</th>\n",
       "      <td>1.066637</td>\n",
       "      <td>0.567446</td>\n",
       "      <td>0.644919</td>\n",
       "      <td>0.931508</td>\n",
       "      <td>0.821588</td>\n",
       "      <td>-0.113522</td>\n",
       "      <td>-0.145186</td>\n",
       "      <td>0.476533</td>\n",
       "      <td>0.198969</td>\n",
       "      <td>-0.179323</td>\n",
       "    </tr>\n",
       "    <tr>\n",
       "      <th>3</th>\n",
       "      <td>0.819356</td>\n",
       "      <td>0.567446</td>\n",
       "      <td>-0.370523</td>\n",
       "      <td>-0.387054</td>\n",
       "      <td>-0.447314</td>\n",
       "      <td>-0.365626</td>\n",
       "      <td>-0.311465</td>\n",
       "      <td>0.292120</td>\n",
       "      <td>0.324781</td>\n",
       "      <td>0.166351</td>\n",
       "    </tr>\n",
       "    <tr>\n",
       "      <th>4</th>\n",
       "      <td>1.684839</td>\n",
       "      <td>0.567446</td>\n",
       "      <td>0.096902</td>\n",
       "      <td>0.183135</td>\n",
       "      <td>-0.393756</td>\n",
       "      <td>-0.294379</td>\n",
       "      <td>-0.176363</td>\n",
       "      <td>0.753153</td>\n",
       "      <td>-0.933340</td>\n",
       "      <td>-1.719144</td>\n",
       "    </tr>\n",
       "  </tbody>\n",
       "</table>\n",
       "</div>"
      ],
      "text/plain": [
       "        age    gender  tot_bilirubin  direct_bilirubin  tot_proteins  \\\n",
       "0  1.252098 -1.762281      -0.418878         -0.493964     -0.426715   \n",
       "1  1.066637  0.567446       1.225171          1.430423      1.682629   \n",
       "2  1.066637  0.567446       0.644919          0.931508      0.821588   \n",
       "3  0.819356  0.567446      -0.370523         -0.387054     -0.447314   \n",
       "4  1.684839  0.567446       0.096902          0.183135     -0.393756   \n",
       "\n",
       "    albumin  ag_ratio      sgpt      sgot   alkphos  \n",
       "0 -0.354665 -0.318393  0.292120  0.198969 -0.147898  \n",
       "1 -0.091599 -0.034333  0.937566  0.073157 -0.650697  \n",
       "2 -0.113522 -0.145186  0.476533  0.198969 -0.179323  \n",
       "3 -0.365626 -0.311465  0.292120  0.324781  0.166351  \n",
       "4 -0.294379 -0.176363  0.753153 -0.933340 -1.719144  "
      ]
     },
     "execution_count": 8,
     "metadata": {},
     "output_type": "execute_result"
    }
   ],
   "source": [
    "ss = StandardScaler()\n",
    "for i in feature:\n",
    "    feature_values = ss.fit_transform(feature.values)\n",
    "    \n",
    "feature = pd.DataFrame(data=feature_values,\n",
    "                       index=feature.index,\n",
    "                       columns=feature.columns)\n",
    "feature.head()"
   ]
  },
  {
   "cell_type": "code",
   "execution_count": 9,
   "metadata": {},
   "outputs": [],
   "source": [
    "from sklearn.model_selection import train_test_split\n",
    "X_train,X_test,y_train,y_test = train_test_split(feature,liver,test_size=0.2,random_state=1111)"
   ]
  },
  {
   "cell_type": "code",
   "execution_count": 10,
   "metadata": {},
   "outputs": [],
   "source": [
    "from sklearn.tree import DecisionTreeClassifier\n",
    "from sklearn.linear_model import LogisticRegression\n",
    "from sklearn.neighbors import KNeighborsClassifier\n",
    "from sklearn.ensemble import VotingClassifier"
   ]
  },
  {
   "cell_type": "code",
   "execution_count": 11,
   "metadata": {},
   "outputs": [],
   "source": [
    "logreg = LogisticRegression()\n",
    "knn = KNeighborsClassifier()\n",
    "dtc = DecisionTreeClassifier()"
   ]
  },
  {
   "cell_type": "code",
   "execution_count": 12,
   "metadata": {},
   "outputs": [],
   "source": [
    "model = [('Logistic Regression',logreg),('Decision Tree Classifier',dtc),('K Neighbors Classifier',knn)]"
   ]
  },
  {
   "cell_type": "code",
   "execution_count": 13,
   "metadata": {},
   "outputs": [
    {
     "name": "stdout",
     "output_type": "stream",
     "text": [
      "Logistic Regression Memiliki Akurasi : 0.71\n",
      "Decision Tree Classifier Memiliki Akurasi : 0.63\n",
      "K Neighbors Classifier Memiliki Akurasi : 0.65\n"
     ]
    }
   ],
   "source": [
    "from sklearn.metrics import accuracy_score\n",
    "for model_name, mdl in model:\n",
    "    mdl.fit(X_train,y_train)\n",
    "    y_pred = mdl.predict(X_test)\n",
    "    acc = accuracy_score(y_test,y_pred)\n",
    "    print('{} Memiliki Akurasi : {}'.format(model_name, round(acc,2)))"
   ]
  },
  {
   "cell_type": "code",
   "execution_count": 15,
   "metadata": {},
   "outputs": [
    {
     "name": "stdout",
     "output_type": "stream",
     "text": [
      "Voting Classifier Memiliki Akurasi : 0.69\n"
     ]
    }
   ],
   "source": [
    "vc = VotingClassifier(estimators=model)\n",
    "vc.fit(X_train,y_train)\n",
    "y_pred = vc.predict(X_test)\n",
    "acc = accuracy_score(y_test,y_pred)\n",
    "print('Voting Classifier Memiliki Akurasi : {}'.format(round(acc,2)))"
   ]
  },
  {
   "cell_type": "markdown",
   "metadata": {},
   "source": [
    "# Bagging Classifier"
   ]
  },
  {
   "cell_type": "code",
   "execution_count": 16,
   "metadata": {},
   "outputs": [],
   "source": [
    "# Import DecisionTreeClassifier\n",
    "from sklearn.tree import DecisionTreeClassifier\n",
    "\n",
    "# Import BaggingClassifier\n",
    "from sklearn.ensemble import BaggingClassifier\n",
    "\n",
    "# Instantiate dt\n",
    "dt = DecisionTreeClassifier(random_state=1)\n",
    "\n",
    "# Instantiate bc\n",
    "bc = BaggingClassifier(base_estimator=dt, n_estimators=50, random_state=1)"
   ]
  },
  {
   "cell_type": "code",
   "execution_count": 17,
   "metadata": {},
   "outputs": [
    {
     "name": "stdout",
     "output_type": "stream",
     "text": [
      "Test set accuracy of bc: 0.69\n"
     ]
    }
   ],
   "source": [
    "# Fit bc to the training set\n",
    "bc.fit(X_train, y_train)\n",
    "\n",
    "# Predict test set labels\n",
    "y_pred = bc.predict(X_test)\n",
    "\n",
    "# Evaluate acc_test\n",
    "acc_test = accuracy_score(y_test, y_pred)\n",
    "print('Test set accuracy of bc: {:.2f}'.format(acc_test))"
   ]
  }
 ],
 "metadata": {
  "kernelspec": {
   "display_name": "Python 3",
   "language": "python",
   "name": "python3"
  },
  "language_info": {
   "codemirror_mode": {
    "name": "ipython",
    "version": 3
   },
   "file_extension": ".py",
   "mimetype": "text/x-python",
   "name": "python",
   "nbconvert_exporter": "python",
   "pygments_lexer": "ipython3",
   "version": "3.8.5"
  }
 },
 "nbformat": 4,
 "nbformat_minor": 4
}
