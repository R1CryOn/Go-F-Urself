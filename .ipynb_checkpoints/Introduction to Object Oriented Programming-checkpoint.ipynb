{
 "cells": [
  {
   "cell_type": "code",
   "execution_count": null,
   "metadata": {
    "slideshow": {
     "slide_type": "slide"
    }
   },
   "outputs": [],
   "source": [
    "# Membuat class sederhana\n",
    "class Mahasiswa:\n",
    "    pass"
   ]
  },
  {
   "cell_type": "code",
   "execution_count": null,
   "metadata": {
    "slideshow": {
     "slide_type": "slide"
    }
   },
   "outputs": [],
   "source": [
    "# Memberikan class sebuah variable/attribute\n",
    "class Mahasiswa:\n",
    "    nama = 'Spiderman'"
   ]
  },
  {
   "cell_type": "code",
   "execution_count": null,
   "metadata": {
    "slideshow": {
     "slide_type": "slide"
    }
   },
   "outputs": [],
   "source": [
    "# Bagaimana cara mendapatkan nilai Spiderman ? Apakah seperti ini ?\n",
    "print(Mahasiswa)"
   ]
  },
  {
   "cell_type": "code",
   "execution_count": null,
   "metadata": {
    "slideshow": {
     "slide_type": "slide"
    }
   },
   "outputs": [],
   "source": [
    "# Ternyata salah, lantas ?\n",
    "Mahasiswa.nama"
   ]
  },
  {
   "cell_type": "code",
   "execution_count": null,
   "metadata": {
    "slideshow": {
     "slide_type": "slide"
    }
   },
   "outputs": [],
   "source": [
    "# Bisakah kita menampung class dalam sebuah variable\n",
    "m = Mahasiswa()\n",
    "m.nama"
   ]
  },
  {
   "cell_type": "code",
   "execution_count": null,
   "metadata": {
    "slideshow": {
     "slide_type": "slide"
    }
   },
   "outputs": [],
   "source": [
    "# Bisakah kita merubah Spiderman menjadi Batman ?\n",
    "m.nama = 'Batman'\n",
    "m.nama"
   ]
  },
  {
   "cell_type": "code",
   "execution_count": null,
   "metadata": {
    "slideshow": {
     "slide_type": "slide"
    }
   },
   "outputs": [],
   "source": [
    "# Apakah di class Mahasiswa juga berubah ?\n",
    "help(Mahasiswa)"
   ]
  },
  {
   "cell_type": "markdown",
   "metadata": {
    "slideshow": {
     "slide_type": "slide"
    }
   },
   "source": [
    "Ternyata masih Spiderman, lantas Batman tadi dimana ? nama Batman tadi ditampung di variable m, hal tersebut tidak mempengaruhi variable atau attribute nama pada class Mahasiswa, maka dari itu, nama di Class Mahasiswa tetaplah Spiderman"
   ]
  },
  {
   "cell_type": "code",
   "execution_count": null,
   "metadata": {
    "slideshow": {
     "slide_type": "slide"
    }
   },
   "outputs": [],
   "source": [
    "# Cara Merubahnya ? Dengan merubah attribute class itu sendiri\n",
    "Mahasiswa.nama = 'Power Ranger'\n",
    "help(Mahasiswa)"
   ]
  },
  {
   "cell_type": "markdown",
   "metadata": {
    "slideshow": {
     "slide_type": "-"
    }
   },
   "source": [
    "Power Rangeerrr ! Berubah !!"
   ]
  },
  {
   "cell_type": "code",
   "execution_count": null,
   "metadata": {
    "slideshow": {
     "slide_type": "slide"
    }
   },
   "outputs": [],
   "source": [
    "# Bisakah class melakukan sesuatu ? Semisal operasi tambah ?\n",
    "class Mahasiswa:\n",
    "    \n",
    "    def Tambah():\n",
    "        a = 5\n",
    "        b = 5\n",
    "        return a + b"
   ]
  },
  {
   "cell_type": "code",
   "execution_count": null,
   "metadata": {
    "slideshow": {
     "slide_type": "slide"
    }
   },
   "outputs": [],
   "source": [
    "# Cara aksesnya ?\n",
    "Mahasiswa.Tambah()"
   ]
  },
  {
   "cell_type": "code",
   "execution_count": null,
   "metadata": {
    "slideshow": {
     "slide_type": "slide"
    }
   },
   "outputs": [],
   "source": [
    "# Cara lainnya ?\n",
    "m = Mahasiswa\n",
    "m.Tambah()"
   ]
  },
  {
   "cell_type": "code",
   "execution_count": null,
   "metadata": {},
   "outputs": [],
   "source": [
    "# Bagaimana dengan ini\n",
    "\n",
    "m = Mahasiswa()\n",
    "m.Tambah()"
   ]
  },
  {
   "cell_type": "code",
   "execution_count": null,
   "metadata": {
    "slideshow": {
     "slide_type": "slide"
    }
   },
   "outputs": [],
   "source": [
    "# Bagaimana menghindari error diatas ?\n",
    "\n",
    "class Mahasiswa:\n",
    "    \n",
    "    def Tambah(self):\n",
    "        self.x = 5\n",
    "        self.y = 5\n",
    "        \n",
    "        return self.x + self.y"
   ]
  },
  {
   "cell_type": "code",
   "execution_count": null,
   "metadata": {
    "slideshow": {
     "slide_type": "slide"
    }
   },
   "outputs": [],
   "source": [
    "m = Mahasiswa()\n",
    "m.Tambah()"
   ]
  },
  {
   "cell_type": "code",
   "execution_count": null,
   "metadata": {
    "slideshow": {
     "slide_type": "slide"
    }
   },
   "outputs": [],
   "source": [
    "# Bisakah kita meletakkan input di dalam class ?\n",
    "\n",
    "class Mahasiswa:\n",
    "    \n",
    "    def __init__(self,name,nim):\n",
    "        self.nama = name\n",
    "        self.bp = nim\n",
    "        print(self.nama)\n",
    "        print(self.bp)"
   ]
  },
  {
   "cell_type": "code",
   "execution_count": null,
   "metadata": {
    "slideshow": {
     "slide_type": "slide"
    }
   },
   "outputs": [],
   "source": [
    "m = Mahasiswa('Ucok',111)"
   ]
  },
  {
   "cell_type": "code",
   "execution_count": null,
   "metadata": {
    "slideshow": {
     "slide_type": "slide"
    }
   },
   "outputs": [],
   "source": [
    "# Apakah kegunaan self di dalam method init ?\n",
    "\n",
    "class Mahasiswa:\n",
    "    \n",
    "    def biodata(nama,bp):\n",
    "        pass\n",
    "        \n",
    "    def output():\n",
    "        print(nama,bp)"
   ]
  },
  {
   "cell_type": "code",
   "execution_count": null,
   "metadata": {
    "slideshow": {
     "slide_type": "slide"
    }
   },
   "outputs": [],
   "source": [
    "Mahasiswa.biodata('Ucok',111)"
   ]
  },
  {
   "cell_type": "code",
   "execution_count": null,
   "metadata": {},
   "outputs": [],
   "source": [
    "Mahasiswa.output()"
   ]
  },
  {
   "cell_type": "markdown",
   "metadata": {},
   "source": [
    "tentu kita harus menginput kembali nama dan bp kan ?"
   ]
  },
  {
   "cell_type": "code",
   "execution_count": null,
   "metadata": {},
   "outputs": [],
   "source": [
    "class Mahasiswa:\n",
    "    \n",
    "    def __init__(self,name,nim):\n",
    "        self.nama = name\n",
    "        self.bp = nim\n",
    "        \n",
    "    def output(self):\n",
    "        print(self.nama)\n",
    "        print(self.bp)\n",
    "        \n",
    "m1 = Mahasiswa('Ucok',111)\n",
    "m2 = Mahasiswa('Ronaldo',222)"
   ]
  },
  {
   "cell_type": "code",
   "execution_count": null,
   "metadata": {},
   "outputs": [],
   "source": [
    "m1.output()"
   ]
  },
  {
   "cell_type": "code",
   "execution_count": null,
   "metadata": {},
   "outputs": [],
   "source": [
    "m2.output()"
   ]
  },
  {
   "cell_type": "code",
   "execution_count": null,
   "metadata": {},
   "outputs": [],
   "source": [
    "# Class and Instance Attribute\n",
    "\n",
    "class Pegawai:\n",
    "    \n",
    "    def __init__(self,nama,gaji):\n",
    "        self.nama = nama\n",
    "        self.gaji = gaji\n",
    "        \n",
    "    def output(self):\n",
    "        print('Pegawai ' + self.nama + ' Memiliki Gaji ', self.gaji)\n",
    "\n",
    "p = Pegawai('Ebisu',-1)\n",
    "p.output()"
   ]
  },
  {
   "cell_type": "code",
   "execution_count": null,
   "metadata": {},
   "outputs": [],
   "source": [
    "# Class attribute\n",
    "\n",
    "class Pegawai:\n",
    "    \n",
    "    Minimal_Gaji = 5000\n",
    "    \n",
    "    def __init__(self,nama,gaji):\n",
    "        self.nama = nama\n",
    "        if gaji < Minimal_Gaji:\n",
    "            self.gaji = Minimal_Gaji\n",
    "        \n",
    "    def output(self):\n",
    "        print('Pegawai ' + self.nama + ' Memiliki Gaji ', self.gaji)\n",
    "\n",
    "try:\n",
    "    p = Pegawai('Ebisu',-1)\n",
    "    p.output()\n",
    "except:\n",
    "    print(\"NameError: name 'Minimal_Gaji' is not defined\")"
   ]
  },
  {
   "cell_type": "code",
   "execution_count": null,
   "metadata": {},
   "outputs": [],
   "source": [
    "# Class attribute\n",
    "\n",
    "class Pegawai:\n",
    "    \n",
    "    Minimal_Gaji = 5000\n",
    "    \n",
    "    def __init__(self,nama,gaji):\n",
    "        self.nama = nama\n",
    "        if gaji < Pegawai.Minimal_Gaji:\n",
    "            self.gaji = Pegawai.Minimal_Gaji\n",
    "        \n",
    "    def output(self):\n",
    "        print('Pegawai ' + self.nama + ' Memiliki Gaji ', self.gaji)\n",
    "\n",
    "try:\n",
    "    p = Pegawai('Ebisu',-1)\n",
    "    p.output()\n",
    "except:\n",
    "    print(\"NameError: name 'Minimal_Gaji' is not defined\")"
   ]
  },
  {
   "cell_type": "code",
   "execution_count": null,
   "metadata": {},
   "outputs": [],
   "source": [
    "# Instance attribute\n",
    "\n",
    "class Pegawai:\n",
    "    \n",
    "    Minimal_Gaji = 5000\n",
    "    \n",
    "    def __init__(self,nama,gaji):\n",
    "        self.nama = nama\n",
    "        if gaji < Pegawai.Minimal_Gaji:\n",
    "            self.gaji = Pegawai.Minimal_Gaji\n",
    "        \n",
    "    def output(self,jam_kerja):\n",
    "        self.jam_kerja = jam_kerja\n",
    "        print('Pegawai ' + self.nama + ' Memiliki Gaji',self.gaji,'Dan jam kerja',jam_kerja,'jam')\n",
    "\n",
    "try:\n",
    "    p = Pegawai('Ebisu',-1)\n",
    "    p.output(20)\n",
    "except:\n",
    "    print(\"NameError: name 'Minimal_Gaji' is not defined\")"
   ]
  },
  {
   "cell_type": "code",
   "execution_count": null,
   "metadata": {},
   "outputs": [],
   "source": [
    "# Private Variable\n",
    "\n",
    "class Karyawan:\n",
    "    \n",
    "    def __init__(self,nama,gaji):\n",
    "        self.nama = nama\n",
    "        self.gaji = gaji\n",
    "        self.__privat = 'Private Attribute'\n",
    "        \n",
    "k = Karyawan('Ucok',111)\n",
    "k.__dict__"
   ]
  },
  {
   "cell_type": "code",
   "execution_count": null,
   "metadata": {},
   "outputs": [],
   "source": [
    "print(k.nama)\n",
    "print(k.gaji)"
   ]
  },
  {
   "cell_type": "code",
   "execution_count": null,
   "metadata": {},
   "outputs": [],
   "source": [
    "print(k.__privat)"
   ]
  },
  {
   "cell_type": "code",
   "execution_count": null,
   "metadata": {
    "scrolled": true
   },
   "outputs": [],
   "source": [
    "print(k.privat)"
   ]
  },
  {
   "cell_type": "code",
   "execution_count": null,
   "metadata": {},
   "outputs": [],
   "source": [
    "class Karyawan:\n",
    "    \n",
    "    def __init__(self,nama,gaji,jam_kerja):\n",
    "        self.nama = nama\n",
    "        self.gaji = gaji\n",
    "        self.__jam_kerja = jam_kerja\n",
    "        \n",
    "    def GetPrivate(self):\n",
    "        return self.__jam_kerja\n",
    "        \n",
    "k = Karyawan('Ucok',111,10)\n",
    "k.GetPrivate()"
   ]
  },
  {
   "cell_type": "code",
   "execution_count": null,
   "metadata": {},
   "outputs": [],
   "source": [
    "print(k.nama)\n",
    "k.nama = 'Baba'\n",
    "print(k.nama)"
   ]
  },
  {
   "cell_type": "code",
   "execution_count": null,
   "metadata": {},
   "outputs": [],
   "source": [
    "print(k.GetPrivate())\n",
    "k.jam_kerja = 15\n",
    "print(k.GetPrivate())"
   ]
  },
  {
   "cell_type": "code",
   "execution_count": null,
   "metadata": {},
   "outputs": [],
   "source": [
    "class Karyawan:\n",
    "    \n",
    "    def __init__(self,nama,gaji,jam_kerja):\n",
    "        self.nama = nama\n",
    "        self.gaji = gaji\n",
    "        self.__jam_kerja = jam_kerja\n",
    "        \n",
    "    def Change(self,x):\n",
    "        self.__jam_kerja = x\n",
    "        \n",
    "    def GetPrivate(self):\n",
    "        return self.__jam_kerja\n",
    "        \n",
    "k = Karyawan('Ucok',111,10)\n",
    "k.GetPrivate()"
   ]
  },
  {
   "cell_type": "code",
   "execution_count": null,
   "metadata": {},
   "outputs": [],
   "source": [
    "k.Change(15)\n",
    "k.GetPrivate()"
   ]
  },
  {
   "cell_type": "code",
   "execution_count": null,
   "metadata": {},
   "outputs": [],
   "source": [
    "k._Karyawan__jam_kerja"
   ]
  },
  {
   "cell_type": "code",
   "execution_count": null,
   "metadata": {},
   "outputs": [],
   "source": [
    "# Protected Variable\n",
    "\n",
    "class Karyawan:\n",
    "    \n",
    "    def __init__(self,nama):\n",
    "        self._nama = nama\n",
    "        \n",
    "k = Karyawan('Kelvin')\n",
    "k._nama"
   ]
  },
  {
   "cell_type": "code",
   "execution_count": null,
   "metadata": {},
   "outputs": [],
   "source": [
    "k._nama = 'Baba'\n",
    "k._nama"
   ]
  },
  {
   "cell_type": "code",
   "execution_count": null,
   "metadata": {},
   "outputs": [],
   "source": [
    "class Karyawan:\n",
    "    __jumlah = 0\n",
    "    \n",
    "    def __init__(self,nama):\n",
    "        self.nama = nama\n",
    "        Karyawan.__jumlah += 1\n",
    "        \n",
    "    def GetJumlah():\n",
    "        return Karyawan.__jumlah\n",
    "    \n",
    "k = Karyawan('Kelvin')\n",
    "k.GetJumlah()"
   ]
  },
  {
   "cell_type": "code",
   "execution_count": null,
   "metadata": {},
   "outputs": [],
   "source": [
    "class Karyawan:\n",
    "    __jumlah = 0\n",
    "    \n",
    "    def __init__(self,nama):\n",
    "        self.nama = nama\n",
    "        Karyawan.__jumlah += 1\n",
    "     \n",
    "    def GetJumlah(n):\n",
    "        return Karyawan.__jumlah\n",
    "    \n",
    "k = Karyawan('Kelvin')\n",
    "Karyawan.GetJumlah()"
   ]
  },
  {
   "cell_type": "code",
   "execution_count": null,
   "metadata": {},
   "outputs": [],
   "source": [
    "class Karyawan:\n",
    "    __jumlah = 0\n",
    "    \n",
    "    def __init__(self,nama):\n",
    "        self.nama = nama\n",
    "        Karyawan.__jumlah += 1\n",
    "     \n",
    "    @classmethod\n",
    "    def GetJumlah(cls):\n",
    "        return Karyawan.__jumlah\n",
    "    \n",
    "k = Karyawan('Kelvin')\n",
    "k2 = Karyawan('Ucok')\n",
    "\n",
    "print(Karyawan.GetJumlah())\n",
    "print(k2.GetJumlah())"
   ]
  }
 ],
 "metadata": {
  "celltoolbar": "Slideshow",
  "kernelspec": {
   "display_name": "Python 3",
   "language": "python",
   "name": "python3"
  },
  "language_info": {
   "codemirror_mode": {
    "name": "ipython",
    "version": 3
   },
   "file_extension": ".py",
   "mimetype": "text/x-python",
   "name": "python",
   "nbconvert_exporter": "python",
   "pygments_lexer": "ipython3",
   "version": "3.8.5"
  }
 },
 "nbformat": 4,
 "nbformat_minor": 4
}
